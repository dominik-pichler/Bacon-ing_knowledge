{
 "cells": [
  {
   "metadata": {
    "ExecuteTime": {
     "end_time": "2024-09-25T08:31:49.245376Z",
     "start_time": "2024-09-25T08:31:36.529136Z"
    }
   },
   "cell_type": "code",
   "source": [
    "import sqlite3\n",
    "from collections import Counter\n",
    "import re\n",
    "import matplotlib.pyplot as plt\n",
    "from transformers import AutoTokenizer, AutoModelForTokenClassification\n",
    "import torch\n",
    "from mordecai import Geoparser\n",
    "import spacy\n"
   ],
   "id": "503cf801e9d07140",
   "outputs": [],
   "execution_count": 1
  },
  {
   "metadata": {},
   "cell_type": "markdown",
   "source": "# Helper Functions",
   "id": "1f1d88e32ac0df62"
  },
  {
   "metadata": {
    "ExecuteTime": {
     "end_time": "2024-09-25T07:05:56.414125Z",
     "start_time": "2024-09-25T07:05:56.410056Z"
    }
   },
   "cell_type": "code",
   "source": [
    "def run_query(database_path, query):\n",
    "    # Connect to the SQLite database\n",
    "    # If the database does not exist, it will be created\n",
    "    connection = sqlite3.connect(database_path)\n",
    "    \n",
    "    try:\n",
    "        # Create a cursor object using the connection\n",
    "        cursor = connection.cursor()\n",
    "        \n",
    "        # Execute the SQL query\n",
    "        cursor.execute(query)\n",
    "        \n",
    "        # Fetch all results from the executed query\n",
    "        results = cursor.fetchall()\n",
    "        \n",
    "        # Turning list of tuples to list of strings for further processing\n",
    "        return [str(t[0]) for t in results]\n",
    "\n",
    "            \n",
    "    except sqlite3.Error as e:\n",
    "        print(f\"An error occurred: {e}\")\n",
    "        \n",
    "    finally:\n",
    "        \n",
    "        # Close the connection to the database\n",
    "        if connection:\n",
    "            connection.close()\n"
   ],
   "id": "initial_id",
   "outputs": [],
   "execution_count": 2
  },
  {
   "metadata": {},
   "cell_type": "code",
   "outputs": [],
   "execution_count": 8,
   "source": [
    "def analyze_term_frequency(names):\n",
    "    # Join all names into a single string\n",
    "    all_names = ' '.join(names)\n",
    "    \n",
    "    # Tokenize the string into words using regex to handle different delimiters\n",
    "    words = re.findall(r'\\b\\w+\\b', all_names.lower())\n",
    "    \n",
    "    # Count the frequency of each word using Counter\n",
    "    term_frequency = Counter(words)\n",
    "    \n",
    "    return term_frequency"
   ],
   "id": "77fac79add9ac3cb"
  },
  {
   "metadata": {
    "ExecuteTime": {
     "end_time": "2024-09-25T06:30:48.483147Z",
     "start_time": "2024-09-25T06:30:48.469027Z"
    }
   },
   "cell_type": "code",
   "source": [
    "\n",
    "def plot_top_terms(term_frequency, top_n=10):\n",
    "    # Get the most common terms and their frequencies\n",
    "    common_terms = term_frequency.most_common(top_n)\n",
    "    \n",
    "    # Separate terms and frequencies for plotting\n",
    "    terms, frequencies = zip(*common_terms)\n",
    "    \n",
    "    # Create a bar chart\n",
    "    plt.figure(figsize=(10, 6))\n",
    "    plt.bar(terms, frequencies, color='skyblue')\n",
    "    \n",
    "    # Add title and labels\n",
    "    plt.title('Top Occurring Terms')\n",
    "    plt.xlabel('Terms')\n",
    "    plt.ylabel('Frequency')\n",
    "    \n",
    "    # Rotate x-axis labels for better readability\n",
    "    plt.xticks(rotation=45)\n",
    "    \n",
    "    # Show plot\n",
    "    plt.tight_layout()\n",
    "    plt.show()\n"
   ],
   "id": "d2007a8d70f7bc7",
   "outputs": [],
   "execution_count": 30
  },
  {
   "metadata": {
    "ExecuteTime": {
     "end_time": "2024-09-25T06:38:57.717622Z",
     "start_time": "2024-09-25T06:38:57.714472Z"
    }
   },
   "cell_type": "code",
   "source": [
    "def extract_geographical_indicators_RB(company_name, indicators):\n",
    "    found_indicators = []\n",
    "    for indicator in indicators:\n",
    "        if indicator.lower() in company_name.lower():\n",
    "            found_indicators.append(indicator)\n",
    "    return found_indicators"
   ],
   "id": "bdf27fa1a6bb4038",
   "outputs": [],
   "execution_count": 35
  },
  {
   "metadata": {
    "ExecuteTime": {
     "end_time": "2024-09-25T06:44:37.635155Z",
     "start_time": "2024-09-25T06:44:37.623272Z"
    }
   },
   "cell_type": "code",
   "source": [
    "def extract_geographical_indicators_TB(company_name):\n",
    "    # Tokenize input text\n",
    "    inputs = tokenizer(company_name, return_tensors=\"pt\")\n",
    "\n",
    "    # Get model predictions\n",
    "    with torch.no_grad():\n",
    "        outputs = model(**inputs).logits\n",
    "\n",
    "    # Get predicted token classes\n",
    "    predictions = torch.argmax(outputs, dim=2)\n",
    "\n",
    "    # Extract geographical indicators based on predicted classes\n",
    "    tokens = tokenizer.convert_ids_to_tokens(inputs[\"input_ids\"][0])\n",
    "    predicted_labels = [labels[prediction] for prediction in predictions[0]]\n",
    "\n",
    "    # Collect location entities\n",
    "    locations = []\n",
    "    for token, label in zip(tokens, predicted_labels):\n",
    "        if label.startswith(\"B-LOC\"):\n",
    "            locations.append(token)\n",
    "\n",
    "    return locations\n"
   ],
   "id": "2492f490dc9c2a80",
   "outputs": [],
   "execution_count": 39
  },
  {
   "metadata": {},
   "cell_type": "markdown",
   "source": [
    "# Company Type and Status\n",
    "Identify the type of company based on suffixes like \"GmbH,\" \"e.K.,\" or \"Union,\" which indicate the legal structure (e.g., GmbH for a limited liability company in Germany)\n"
   ],
   "id": "703ed45bf10c5bc8"
  },
  {
   "metadata": {},
   "cell_type": "code",
   "outputs": [],
   "execution_count": 26,
   "source": [
    "# Example usage\n",
    "database_path = 'openregister.db'  # Path to your SQLite database file\n",
    "query = 'SELECT name FROM company LIMIT 100;'  # Replace 'your_table' with your actual table name\n",
    "\n",
    "list_all_names = run_query(database_path, query)"
   ],
   "id": "1b369619a5a307b9"
  },
  {
   "metadata": {},
   "cell_type": "markdown",
   "source": "",
   "id": "8c836faf4ccc85aa"
  },
  {
   "metadata": {},
   "cell_type": "code",
   "outputs": [
    {
     "name": "stdout",
     "output_type": "stream",
     "text": [
      "'gmbh': 66\n",
      "'mbh': 17\n",
      "'ug': 9\n",
      "'haftungsbeschränkt': 9\n",
      "'verwaltung': 8\n",
      "'co': 8\n",
      "'kg': 7\n",
      "'verwaltungs': 6\n",
      "'beteiligungsgesellschaft': 4\n",
      "'und': 4\n",
      "'management': 4\n",
      "'ms': 4\n",
      "'verwaltungsgesellschaft': 4\n",
      "'deutschland': 3\n",
      "'hamburg': 3\n",
      "'trading': 3\n",
      "'services': 3\n",
      "'bremen': 2\n",
      "'ag': 2\n",
      "'zweite': 2\n",
      "'für': 2\n",
      "'rembert': 2\n",
      "'handelsgesellschaft': 2\n",
      "'treuhand': 2\n",
      "'holding': 2\n",
      "'gesellschaft': 2\n",
      "'europe': 2\n",
      "'systems': 2\n",
      "'germany': 2\n",
      "'system': 2\n",
      "'aktiengesellschaft': 2\n",
      "'vermietungsgesellschaft': 2\n",
      "'olly': 1\n",
      "'bluechilled': 1\n",
      "'mittelständische': 1\n",
      "'albert': 1\n",
      "'barufe': 1\n",
      "'itergo': 1\n",
      "'informationstechnologie': 1\n",
      "'rheinbahn': 1\n",
      "'ifö': 1\n",
      "'immobilienfonds': 1\n",
      "'österreich': 1\n",
      "'aws': 1\n",
      "'personalmarketing': 1\n",
      "'rechtsanwälte': 1\n",
      "'müller': 1\n",
      "'putzier': 1\n",
      "'partner': 1\n",
      "'eingetragene': 1\n",
      "'partnerschaft': 1\n",
      "'mit': 1\n",
      "'beschränkter': 1\n",
      "'berufshaftung': 1\n",
      "'pox': 1\n",
      "'media': 1\n",
      "'hb': 1\n",
      "'digital': 1\n",
      "'neunte': 1\n",
      "'grundstücksverwaltung': 1\n",
      "'ahg': 1\n",
      "'beteiligungs': 1\n",
      "'wpd': 1\n",
      "'windparks': 1\n",
      "'westfalen': 1\n",
      "'iv': 1\n",
      "'palletways': 1\n",
      "'s': 1\n",
      "'kon': 1\n",
      "'sales': 1\n",
      "'kontor': 1\n",
      "'electronicpartner': 1\n",
      "'handel': 1\n",
      "'se': 1\n",
      "'stadtküche': 1\n",
      "'siebte': 1\n",
      "'paxas': 1\n",
      "'ad': 1\n",
      "'fontes': 1\n",
      "'solartechnik': 1\n",
      "'ferox': 1\n",
      "'yücebudak': 1\n",
      "'it': 1\n",
      "'vertrieb': 1\n",
      "'nordcapital': 1\n",
      "'schiffsportfolio': 1\n",
      "'4': 1\n",
      "'hcg': 1\n",
      "'hanse': 1\n",
      "'convenience': 1\n",
      "'fap': 1\n",
      "'comfort': 1\n",
      "'geschäftsflächen': 1\n",
      "'unternehmensvermittlung': 1\n",
      "'dr': 1\n",
      "'gottfried': 1\n",
      "'neuhaus': 1\n",
      "'monheimer': 1\n",
      "'biermanufactur': 1\n",
      "'panasonic': 1\n",
      "'ltd': 1\n",
      "'zweigniederlassung': 1\n",
      "'office': 1\n",
      "'renta': 1\n",
      "'reederei': 1\n",
      "'dura': 1\n",
      "'automotive': 1\n",
      "'fb': 1\n",
      "'trust': 1\n",
      "'can': 1\n",
      "'koi': 1\n",
      "'ibiza': 1\n",
      "'feedback': 1\n",
      "'vermögensberatungs': 1\n",
      "'vermittlungsgesellschaft': 1\n",
      "'w247': 1\n",
      "'web': 1\n",
      "'app': 1\n",
      "'jant': 1\n",
      "'express': 1\n",
      "'logistik': 1\n",
      "'seabridge': 1\n",
      "'transport': 1\n",
      "'schiffsfonds': 1\n",
      "'ownership': 1\n",
      "'tonnage': 1\n",
      "'vii': 1\n",
      "'kidinvest': 1\n",
      "'nxp': 1\n",
      "'semiconductors': 1\n",
      "'projektgesellschaft': 1\n",
      "'marco': 1\n",
      "'polo': 1\n",
      "'tower': 1\n",
      "'eckelmann': 1\n",
      "'umwelt': 1\n",
      "'factor': 1\n",
      "'design': 1\n",
      "'luise': 1\n",
      "'schmidts': 1\n",
      "'tivoli': 1\n",
      "'gastspiel': 1\n",
      "'schiffahrts': 1\n",
      "'hansa': 1\n",
      "'brandenburg': 1\n",
      "'amb': 1\n",
      "'trade': 1\n",
      "'zeaborn': 1\n",
      "'ship': 1\n",
      "'dz': 1\n",
      "'hyp': 1\n",
      "'zaevers': 1\n",
      "'auerbach': 1\n",
      "'poertzgen': 1\n",
      "'unternehmensberatung': 1\n",
      "'m': 1\n",
      "'science': 1\n",
      "'hammonia': 1\n",
      "'toscana': 1\n",
      "'c': 1\n",
      "'gathmann': 1\n",
      "'computer': 1\n",
      "'beratung': 1\n",
      "'ojooo': 1\n",
      "'vo': 1\n",
      "'alessio': 1\n",
      "'analytics': 1\n",
      "'smk': 1\n",
      "'verwertungsgesellschaft': 1\n",
      "'beiersdorf': 1\n",
      "'agarba': 1\n",
      "'grundstücks': 1\n",
      "'baumarkt': 1\n",
      "'max': 1\n",
      "'bahr': 1\n",
      "'praktiker': 1\n",
      "'einkaufs': 1\n",
      "'victoria': 1\n",
      "'lebensversicherung': 1\n",
      "'luma': 1\n",
      "'projektentwicklungs': 1\n",
      "'amber': 1\n",
      "'shipping': 1\n",
      "'redevco': 1\n",
      "'logistics': 1\n",
      "'güdderath': 1\n",
      "'ohg': 1\n",
      "'sophie': 1\n",
      "'schifffahrtsgesellschaft': 1\n",
      "'al': 1\n",
      "'aman': 1\n",
      "'engineering': 1\n",
      "'and': 1\n",
      "'barmbek': 1\n",
      "'närrische': 1\n",
      "'frauen': 1\n",
      "'himmelgeist': 1\n",
      "'e': 1\n",
      "'v': 1\n",
      "'favourisation': 1\n",
      "'wünsche': 1\n",
      "'merica': 1\n",
      "'capital': 1\n",
      "'kröger': 1\n",
      "'baugeräte': 1\n",
      "'service': 1\n",
      "'achte': 1\n",
      "'display': 1\n",
      "'atlantik': 1\n",
      "'hafenbetriebe': 1\n",
      "'geuther': 1\n",
      "'schnitger': 1\n",
      "'tt': 1\n",
      "'avaspa': 1\n",
      "'tol': 1\n",
      "'time': 1\n",
      "'of': 1\n",
      "'luxury': 1\n",
      "'mutabor': 1\n",
      "'brandspaces': 1\n",
      "'gebäudereinigung': 1\n",
      "'wolff': 1\n",
      "'he': 1\n",
      "'lee': 1\n",
      "'expo': 1\n",
      "'messe': 1\n",
      "'consulting': 1\n",
      "'project': 1\n",
      "'eurofins': 1\n",
      "'gsc': 1\n",
      "'equinox': 1\n",
      "'investment': 1\n",
      "'sell': 1\n",
      "'facility': 1\n",
      "'blvè': 1\n",
      "'luzemann': 1\n",
      "'sasol': 1\n",
      "'wax': 1\n",
      "'molten': 1\n",
      "'vierte': 1\n",
      "'fonds': 1\n",
      "'genigo': 1\n",
      "'wehr': 1\n",
      "'bulkcarriers': 1\n",
      "'r': 1\n",
      "'f': 1\n",
      "'l': 1\n",
      "'gewerbe': 1\n",
      "'immobilien': 1\n",
      "'egrima': 1\n",
      "'lampe': 1\n",
      "'asset': 1\n",
      "'hartungstraße': 1\n",
      "'12': 1\n",
      "'es': 1\n",
      "'medien': 1\n",
      "'agentur': 1\n",
      "'dewigo': 1\n",
      "'dealing': 1\n",
      "'with': 1\n",
      "'goods': 1\n",
      "'npc': 1\n",
      "'hotelentwicklungs': 1\n",
      "'u': 1\n",
      "'tracoa': 1\n",
      "'muehlhan': 1\n",
      "'harburg': 1\n",
      "'freudenberger': 1\n",
      "'maschinenbau': 1\n"
     ]
    }
   ],
   "execution_count": 29,
   "source": [
    "# Analyze term frequency in names\n",
    "term_frequency = analyze_term_frequency(list_all_names)\n",
    "\n",
    "# Sort the term frequency dictionary by frequency in descending order\n",
    "sorted_term_frequency = sorted(term_frequency.items(), key=lambda item: item[1], reverse=True)\n",
    "\n",
    "# Print sorted term frequency results\n",
    "for term, freq in sorted_term_frequency:\n",
    "    print(f\"'{term}': {freq}\")"
   ],
   "id": "9021fe6c1a78a96d"
  },
  {
   "metadata": {},
   "cell_type": "markdown",
   "source": [
    "### Results \n",
    "The Results indicate to me that at least some entities could be extracted by using hardcoded filters. Examples could be the Company Purpose (Gastgewerbe, Hotels, ...) or the company type (GmbH, KG, ...).\n",
    "An example can be found in the plot below.  "
   ],
   "id": "5412a7e6e49b456e"
  },
  {
   "metadata": {
    "ExecuteTime": {
     "end_time": "2024-09-25T06:31:00.449077Z",
     "start_time": "2024-09-25T06:30:57.851441Z"
    }
   },
   "cell_type": "code",
   "source": "plot_top_terms(term_frequency, top_n=10)",
   "id": "1899a6206fdad970",
   "outputs": [
    {
     "data": {
      "text/plain": [
       "<Figure size 1000x600 with 1 Axes>"
      ],
      "image/png": "[encoded data removed]"
     },
     "metadata": {},
     "output_type": "display_data"
    }
   ],
   "execution_count": 31
  },
  {
   "metadata": {},
   "cell_type": "markdown",
   "source": "# Geographical Information",
   "id": "f989155bc297abb3"
  },
  {
   "metadata": {},
   "cell_type": "markdown",
   "source": [
    "## Hard-Coded Rules/Vocabulary for Geo ER\n",
    "As a starting point/benchmark:"
   ],
   "id": "588ef4047db72dfa"
  },
  {
   "metadata": {
    "ExecuteTime": {
     "end_time": "2024-09-25T06:38:45.179998Z",
     "start_time": "2024-09-25T06:38:45.166122Z"
    }
   },
   "cell_type": "code",
   "source": [
    "geographical_indicators = [\n",
    "    \"Algeria\", \"Germany\", \"France\", \"USA\", \"China\", \"India\", \"Brazil\",\n",
    "    # Add more countries, cities, or regions as needed\n",
    "]"
   ],
   "id": "72b0b62fc03b0fc5",
   "outputs": [],
   "execution_count": 32
  },
  {
   "metadata": {
    "ExecuteTime": {
     "end_time": "2024-09-25T06:38:46.668934Z",
     "start_time": "2024-09-25T06:38:46.663570Z"
    }
   },
   "cell_type": "code",
   "source": [
    "database_path = 'openregister.db'  # Path to your SQLite database file\n",
    "query = 'SELECT name FROM company LIMIT 100;'  # Replace 'your_table' with your actual table name\n",
    "\n",
    "company_names = run_query(database_path, query)"
   ],
   "id": "a0199e9655b6987",
   "outputs": [],
   "execution_count": 33
  },
  {
   "metadata": {
    "ExecuteTime": {
     "end_time": "2024-09-25T06:39:03.245338Z",
     "start_time": "2024-09-25T06:39:03.241860Z"
    }
   },
   "cell_type": "code",
   "source": [
    "for name in company_names:\n",
    "    indicators = extract_geographical_indicators_RB(name, geographical_indicators)\n",
    "    if indicators:\n",
    "        print(f\"Company Name: '{name}' -> Geographical Indicators: {indicators}\")"
   ],
   "id": "2941801978eee43e",
   "outputs": [
    {
     "name": "stdout",
     "output_type": "stream",
     "text": [
      "Company Name: 'NXP Semiconductors Germany GmbH' -> Geographical Indicators: ['Germany']\n",
      "Company Name: 'Eurofins GSC Germany GmbH' -> Geographical Indicators: ['Germany']\n"
     ]
    }
   ],
   "execution_count": 36
  },
  {
   "metadata": {},
   "cell_type": "markdown",
   "source": "",
   "id": "d6a8830aeee07539"
  },
  {
   "metadata": {},
   "cell_type": "markdown",
   "source": "",
   "id": "6a4e69035e1293ba"
  },
  {
   "metadata": {},
   "cell_type": "markdown",
   "source": "## ML-Based Approach for Geo ER\n",
   "id": "60b45fcefbfd3b66"
  },
  {
   "metadata": {},
   "cell_type": "markdown",
   "source": "## Geobert (Fined Tuned BERT)",
   "id": "2879b84a6ea306f1"
  },
  {
   "metadata": {
    "ExecuteTime": {
     "end_time": "2024-09-25T06:49:48.998774Z",
     "start_time": "2024-09-25T06:49:42.354715Z"
    }
   },
   "cell_type": "code",
   "source": [
    "# Load the tokenizer and model\n",
    "tokenizer = AutoTokenizer.from_pretrained(\"k4tel/geo-bert-multilingual\")\n",
    "model = AutoModelForTokenClassification.from_pretrained(\"k4tel/geo-bert-multilingual\")\n",
    "\n",
    "# Define labels (assuming these are provided with the model)\n",
    "labels = [\"O\", \"B-LOC\", \"I-LOC\"]  # Example labels for Outside, Beginning of Location, Inside Location\n",
    "\n",
    "# Example usage\n",
    "company_names = run_query(database_path, query)\n",
    "\n",
    "for name in company_names:\n",
    "    indicators = extract_geographical_indicators_TB(name)\n",
    "    print(f\"Company Name: '{name}' -> Geographical Indicators: {indicators}\")"
   ],
   "id": "994f162a155c73e",
   "outputs": [
    {
     "name": "stderr",
     "output_type": "stream",
     "text": [
      "/Users/dominikpichler/Documents/Git/OpenSource/Balmung/ER-NLP/.venv/lib/python3.11/site-packages/transformers/tokenization_utils_base.py:1601: FutureWarning: `clean_up_tokenization_spaces` was not set. It will be set to `True` by default. This behavior will be depracted in transformers v4.45, and will be then set to `False` by default. For more details check this issue: https://github.com/huggingface/transformers/issues/31884\n",
      "  warnings.warn(\n",
      "Some weights of BertForTokenClassification were not initialized from the model checkpoint at k4tel/geo-bert-multilingual and are newly initialized: ['classifier.bias', 'classifier.weight']\n",
      "You should probably TRAIN this model on a down-stream task to be able to use it for predictions and inference.\n"
     ]
    },
    {
     "name": "stdout",
     "output_type": "stream",
     "text": [
      "Company Name: 'olly UG (haftungsbeschränkt)' -> Geographical Indicators: ['[CLS]', 'ol', '##ly', 'U', '##G', '(', 'haft', '##ung', '##s', '##bes', '##ch', '##r', '##änkt', ')', '[SEP]']\n",
      "Company Name: 'BLUECHILLED Verwaltungs GmbH' -> Geographical Indicators: ['[CLS]', 'BL', '##UE', '##CH', '##IL', '##LE', '##D', 'Verwaltung', '##s', 'GmbH', '[SEP]']\n",
      "Company Name: 'Mittelständische Beteiligungsgesellschaft Bremen mbH' -> Geographical Indicators: ['[CLS]', 'Mittel', '##stä', '##ndi', '##sche', 'Beteiligung', '##sgesellschaft', 'Bremen', 'm', '##b', '##H', '[SEP]']\n",
      "Company Name: 'Albert Barufe GmbH' -> Geographical Indicators: ['[CLS]', 'Albert', 'Baru', '##fe', 'GmbH', '[SEP]']\n",
      "Company Name: 'ITERGO Informationstechnologie GmbH' -> Geographical Indicators: ['[CLS]', 'IT', '##ER', '##GO', 'Information', '##ste', '##chn', '##ologie', 'GmbH', '[SEP]']\n",
      "Company Name: 'Rheinbahn AG' -> Geographical Indicators: ['[CLS]', 'Rhein', '##bahn', 'AG', '[SEP]']\n",
      "Company Name: 'Verwaltung IFÖ Zweite Immobilienfonds für Österreich GmbH' -> Geographical Indicators: ['[CLS]', 'Verwaltung', 'IF', '##Ö', 'Zweite', 'Im', '##mobil', '##ien', '##fonds', 'für', 'Österreich', 'GmbH', '[SEP]']\n",
      "Company Name: 'AWS Personalmarketing GmbH' -> Geographical Indicators: ['[CLS]', 'A', '##WS', 'Personal', '##market', '##ing', 'GmbH', '[SEP]']\n",
      "Company Name: 'Rembert Rechtsanwälte Rembert Müller Putzier + Partner eingetragene Partnerschaft mit beschränkter Berufshaftung' -> Geographical Indicators: ['[CLS]', 'Re', '##mber', '##t', 'Rechts', '##an', '##w', '##ält', '##e', 'Re', '##mber', '##t', 'Müller', 'Put', '##zier', '+', 'Partner', 'eingetragen', '##e', 'Partners', '##chaft', 'mit', 'beschränkt', '##er', 'Beruf', '##sha', '##ft', '##ung', '[SEP]']\n",
      "Company Name: 'POX Media Verwaltungs GmbH' -> Geographical Indicators: ['[CLS]', 'P', '##OX', 'Media', 'Verwaltung', '##s', 'GmbH', '[SEP]']\n",
      "Company Name: 'HB-DIGITAL GmbH' -> Geographical Indicators: ['[CLS]', 'HB', '-', 'DI', '##GI', '##TA', '##L', 'GmbH', '[SEP]']\n",
      "Company Name: 'Neunte Grundstücksverwaltung AHG-Beteiligungs- und Handelsgesellschaft mbH & Co. KG' -> Geographical Indicators: ['[CLS]', 'Neu', '##nte', 'Grund', '##stück', '##s', '##verwaltung', 'AH', '##G', '-', 'Beteiligung', '##s', '-', 'und', 'Handel', '##sgesellschaft', 'm', '##b', '##H', '&', 'Co', '.', 'KG', '[SEP]']\n",
      "Company Name: 'wpd Windparks Westfalen IV GmbH' -> Geographical Indicators: ['[CLS]', 'w', '##p', '##d', 'Wind', '##park', '##s', 'Westfalen', 'IV', 'GmbH', '[SEP]']\n",
      "Company Name: 'Palletways Deutschland GmbH' -> Geographical Indicators: ['[CLS]', 'Pal', '##let', '##ways', 'Deutschland', 'GmbH', '[SEP]']\n",
      "Company Name: 'S-KON Sales Kontor Hamburg GmbH' -> Geographical Indicators: ['[CLS]', 'S', '-', 'KO', '##N', 'Sales', 'Ko', '##nto', '##r', 'Hamburg', 'GmbH', '[SEP]']\n",
      "Company Name: 'ElectronicPartner Handel SE' -> Geographical Indicators: ['[CLS]', 'Electronic', '##Pa', '##rt', '##ner', 'Handel', 'SE', '[SEP]']\n",
      "Company Name: 'Stadtküche GmbH' -> Geographical Indicators: ['[CLS]', 'Stadt', '##k', '##üche', 'GmbH', '[SEP]']\n",
      "Company Name: 'SIEBTE PAXAS Treuhand- und Beteiligungsgesellschaft mbH' -> Geographical Indicators: ['[CLS]', 'SI', '##EB', '##TE', 'PA', '##X', '##AS', 'Tre', '##uhan', '##d', '-', 'und', 'Beteiligung', '##sgesellschaft', 'm', '##b', '##H', '[SEP]']\n",
      "Company Name: '\"ad fontes\" Solartechnik GmbH' -> Geographical Indicators: ['[CLS]', '\"', 'ad', 'fontes', '\"', 'Solar', '##technik', 'GmbH', '[SEP]']\n",
      "Company Name: 'Ferox Zweite Holding GmbH' -> Geographical Indicators: ['[CLS]', 'Fe', '##rox', 'Zweite', 'Holding', 'GmbH', '[SEP]']\n",
      "Company Name: 'Yücebudak IT & Vertrieb UG (haftungsbeschränkt)' -> Geographical Indicators: ['[CLS]', 'Y', '##ü', '##ce', '##buda', '##k', 'IT', '&', 'Vert', '##rieb', 'U', '##G', '(', 'haft', '##ung', '##s', '##bes', '##ch', '##r', '##änkt', ')', '[SEP]']\n",
      "Company Name: 'Verwaltung NORDCAPITAL Schiffsportfolio 4 GmbH' -> Geographical Indicators: ['[CLS]', 'Verwaltung', 'NO', '##RD', '##CA', '##P', '##IT', '##AL', 'Schiff', '##sport', '##fo', '##lio', '4', 'GmbH', '[SEP]']\n",
      "Company Name: 'HCG Hanse Convenience GmbH' -> Geographical Indicators: ['[CLS]', 'HC', '##G', 'Hans', '##e', 'Con', '##veni', '##ence', 'GmbH', '[SEP]']\n",
      "Company Name: 'FAP Beteiligungsgesellschaft mbH' -> Geographical Indicators: ['[CLS]', 'FA', '##P', 'Beteiligung', '##sgesellschaft', 'm', '##b', '##H', '[SEP]']\n",
      "Company Name: 'Comfort Hamburg Gesellschaft für Geschäftsflächen und Unternehmensvermittlung mbH' -> Geographical Indicators: ['[CLS]', 'Com', '##fort', 'Hamburg', 'Gesellschaft', 'für', 'G', '##eschäft', '##s', '##flächen', 'und', 'Unternehmens', '##ver', '##mittlung', 'm', '##b', '##H', '[SEP]']\n",
      "Company Name: 'Dr. Gottfried Neuhaus Treuhand GmbH' -> Geographical Indicators: ['[CLS]', 'Dr', '.', 'Gottfried', 'Neu', '##haus', 'Tre', '##uhan', '##d', 'GmbH', '[SEP]']\n",
      "Company Name: 'Monheimer Biermanufactur GmbH' -> Geographical Indicators: ['[CLS]', 'Mon', '##heimer', 'Bi', '##erman', '##uf', '##act', '##ur', 'GmbH', '[SEP]']\n",
      "Company Name: 'Panasonic Europe Ltd. Zweigniederlassung Deutschland Hamburg Office' -> Geographical Indicators: ['[CLS]', 'Pan', '##ason', '##ic', 'Europe', 'Ltd', '.', 'Zweig', '##nie', '##der', '##lassung', 'Deutschland', 'Hamburg', 'Office', '[SEP]']\n",
      "Company Name: '\"Renta Reederei\" GmbH' -> Geographical Indicators: ['[CLS]', '\"', 'Ren', '##ta', 'Reeder', '##ei', '\"', 'GmbH', '[SEP]']\n",
      "Company Name: 'Dura Automotive Systems GmbH' -> Geographical Indicators: ['[CLS]', 'Dur', '##a', 'Auto', '##motive', 'Systems', 'GmbH', '[SEP]']\n",
      "Company Name: 'FB trust GmbH' -> Geographical Indicators: ['[CLS]', 'F', '##B', 'trust', 'GmbH', '[SEP]']\n",
      "Company Name: 'Can Koi Ibiza GmbH & Co. KG' -> Geographical Indicators: ['[CLS]', 'Can', 'Ko', '##i', 'Ibiza', 'GmbH', '&', 'Co', '.', 'KG', '[SEP]']\n",
      "Company Name: 'Feedback Vermögensberatungs- und Vermittlungsgesellschaft mbH' -> Geographical Indicators: ['[CLS]', 'Fe', '##ed', '##back', 'Ver', '##mögen', '##s', '##bera', '##tung', '##s', '-', 'und', 'Ver', '##mittlung', '##sgesellschaft', 'm', '##b', '##H', '[SEP]']\n",
      "Company Name: 'W247 web app systems UG (haftungsbeschränkt)' -> Geographical Indicators: ['[CLS]', 'W', '##24', '##7', 'web', 'app', 'systems', 'U', '##G', '(', 'haft', '##ung', '##s', '##bes', '##ch', '##r', '##änkt', ')', '[SEP]']\n",
      "Company Name: 'JANT Express-Logistik UG (haftungsbeschränkt)' -> Geographical Indicators: ['[CLS]', 'JA', '##NT', 'Express', '-', 'Lo', '##gist', '##ik', 'U', '##G', '(', 'haft', '##ung', '##s', '##bes', '##ch', '##r', '##änkt', ')', '[SEP]']\n",
      "Company Name: 'SEABRIDGE Transport GmbH' -> Geographical Indicators: ['[CLS]', 'SE', '##A', '##B', '##RI', '##D', '##GE', 'Transport', 'GmbH', '[SEP]']\n",
      "Company Name: 'Schiffsfonds Ownership Tonnage VII GmbH & Co. KG' -> Geographical Indicators: ['[CLS]', 'Schiff', '##s', '##fonds', 'Own', '##ers', '##hip', 'Ton', '##nage', 'VII', 'GmbH', '&', 'Co', '.', 'KG', '[SEP]']\n",
      "Company Name: 'KidINVEST GmbH' -> Geographical Indicators: ['[CLS]', 'Kid', '##IN', '##VE', '##ST', 'GmbH', '[SEP]']\n",
      "Company Name: 'NXP Semiconductors Germany GmbH' -> Geographical Indicators: ['[CLS]', 'N', '##X', '##P', 'Semi', '##con', '##ductor', '##s', 'Germany', 'GmbH', '[SEP]']\n",
      "Company Name: 'Verwaltung Projektgesellschaft Marco Polo Tower GmbH' -> Geographical Indicators: ['[CLS]', 'Verwaltung', 'Projekt', '##gesellschaft', 'Marco', 'Polo', 'Tower', 'GmbH', '[SEP]']\n",
      "Company Name: 'Eckelmann Umwelt Holding GmbH' -> Geographical Indicators: ['[CLS]', 'Ecke', '##lman', '##n', 'Umwelt', 'Holding', 'GmbH', '[SEP]']\n",
      "Company Name: 'Factor Design Verwaltungs GmbH' -> Geographical Indicators: ['[CLS]', 'Factor', 'Design', 'Verwaltung', '##s', 'GmbH', '[SEP]']\n",
      "Company Name: 'LUISE Verwaltungs GmbH' -> Geographical Indicators: ['[CLS]', 'L', '##UI', '##SE', 'Verwaltung', '##s', 'GmbH', '[SEP]']\n",
      "Company Name: 'Schmidts Tivoli Gastspiel GmbH' -> Geographical Indicators: ['[CLS]', 'Schmidt', '##s', 'Ti', '##voli', 'Gast', '##spiel', 'GmbH', '[SEP]']\n",
      "Company Name: 'Verwaltung Schiffahrts-Gesellschaft \"HANSA BRANDENBURG\" mbH' -> Geographical Indicators: ['[CLS]', 'Verwaltung', 'Schiff', '##ah', '##rts', '-', 'Gesellschaft', '\"', 'H', '##AN', '##SA', 'BR', '##AN', '##DE', '##NB', '##UR', '##G', '\"', 'm', '##b', '##H', '[SEP]']\n",
      "Company Name: 'AMB Trade GmbH' -> Geographical Indicators: ['[CLS]', 'AM', '##B', 'Trade', 'GmbH', '[SEP]']\n",
      "Company Name: 'Verwaltung ZEABORN Ship Management GmbH' -> Geographical Indicators: ['[CLS]', 'Verwaltung', 'Z', '##EA', '##B', '##OR', '##N', 'Ship', 'Management', 'GmbH', '[SEP]']\n",
      "Company Name: 'DZ HYP AG' -> Geographical Indicators: ['[CLS]', 'D', '##Z', 'H', '##YP', 'AG', '[SEP]']\n",
      "Company Name: 'ZAEVERS GmbH' -> Geographical Indicators: ['[CLS]', 'Z', '##A', '##E', '##VE', '##RS', 'GmbH', '[SEP]']\n",
      "Company Name: 'Auerbach Trading GmbH' -> Geographical Indicators: ['[CLS]', 'Au', '##erbach', 'Trading', 'GmbH', '[SEP]']\n",
      "Company Name: 'Poertzgen GmbH Unternehmensberatung' -> Geographical Indicators: ['[CLS]', 'Poe', '##rt', '##z', '##gen', 'GmbH', 'Unternehmens', '##bera', '##tung', '[SEP]']\n",
      "Company Name: '[m]SCIENCE GmbH' -> Geographical Indicators: ['[CLS]', '[', 'm', ']', 'SC', '##IE', '##NC', '##E', 'GmbH', '[SEP]']\n",
      "Company Name: 'Verwaltung MS \"HAMMONIA TOSCANA\" GmbH' -> Geographical Indicators: ['[CLS]', 'Verwaltung', 'MS', '\"', 'H', '##AM', '##M', '##ON', '##IA', 'TO', '##SC', '##AN', '##A', '\"', 'GmbH', '[SEP]']\n",
      "Company Name: 'C. Gathmann Computer-System-Beratung GmbH' -> Geographical Indicators: ['[CLS]', 'C', '.', 'Ga', '##th', '##mann', 'Computer', '-', 'System', '-', 'Be', '##ratu', '##ng', 'GmbH', '[SEP]']\n",
      "Company Name: 'Ojooo Vo GmbH' -> Geographical Indicators: ['[CLS]', 'O', '##jo', '##oo', 'Vo', 'GmbH', '[SEP]']\n",
      "Company Name: 'Alessio Analytics UG (haftungsbeschränkt)' -> Geographical Indicators: ['[CLS]', 'Ale', '##ssio', 'Ana', '##ly', '##tics', 'U', '##G', '(', 'haft', '##ung', '##s', '##bes', '##ch', '##r', '##änkt', ')', '[SEP]']\n",
      "Company Name: 'SMK Verwertungsgesellschaft mbH' -> Geographical Indicators: ['[CLS]', 'SMK', 'Ver', '##wertung', '##sgesellschaft', 'm', '##b', '##H', '[SEP]']\n",
      "Company Name: 'Beiersdorf Aktiengesellschaft' -> Geographical Indicators: ['[CLS]', 'Beier', '##sdorf', 'Akt', '##ien', '##gesellschaft', '[SEP]']\n",
      "Company Name: 'AGARBA Grundstücks-Vermietungsgesellschaft mbH' -> Geographical Indicators: ['[CLS]', 'AG', '##AR', '##BA', 'Grund', '##stück', '##s', '-', 'Ver', '##mie', '##tung', '##sgesellschaft', 'm', '##b', '##H', '[SEP]']\n",
      "Company Name: 'Baumarkt Max Bahr Praktiker Einkaufs GmbH' -> Geographical Indicators: ['[CLS]', 'Baum', '##ark', '##t', 'Max', 'Ba', '##hr', 'Pr', '##akt', '##iker', 'Ein', '##kau', '##fs', 'GmbH', '[SEP]']\n",
      "Company Name: 'Victoria Lebensversicherung Aktiengesellschaft' -> Geographical Indicators: ['[CLS]', 'Victoria', 'Lebens', '##versi', '##cherung', 'Akt', '##ien', '##gesellschaft', '[SEP]']\n",
      "Company Name: 'LuMa Projektentwicklungs-GmbH' -> Geographical Indicators: ['[CLS]', 'Lu', '##M', '##a', 'Projekte', '##nt', '##wicklung', '##s', '-', 'GmbH', '[SEP]']\n",
      "Company Name: 'Amber Shipping UG (haftungsbeschränkt) & Co. KG' -> Geographical Indicators: ['[CLS]', 'Amber', '##ping', 'U', '##G', '(', 'haft', '##ung', '##s', '##bes', '##ch', '##r', '##änkt', ')', '&', 'Co', '.', 'KG', '[SEP]']\n",
      "Company Name: 'REDEVCO Logistics Güdderath GmbH & Co. OHG' -> Geographical Indicators: ['[CLS]', 'RE', '##DE', '##V', '##CO', 'Lo', '##gist', '##ics', 'G', '##ü', '##dder', '##ath', 'GmbH', '&', 'Co', '.', 'OH', '##G', '[SEP]']\n",
      "Company Name: 'Verwaltung \"MS Sophie\" Schifffahrtsgesellschaft mbH' -> Geographical Indicators: ['[CLS]', 'Verwaltung', '\"', 'MS', 'Sophie', '\"', 'Schiff', '##fahrt', '##sgesellschaft', 'm', '##b', '##H', '[SEP]']\n",
      "Company Name: 'AL Aman Engineering and Trading UG (haftungsbeschränkt)' -> Geographical Indicators: ['[CLS]', 'AL', 'Aman', 'U', '##G', '(', '##ung', '##s', '##ch', '##r', '##änkt', ')', '[SEP]']\n",
      "Company Name: 'Verwaltungsgesellschaft MS \"Barmbek\" mbH' -> Geographical Indicators: ['[CLS]', 'Verwaltung', '##sgesellschaft', 'MS', '\"', 'Bar', '##mbe', '##k', '\"', 'm', '##b', '##H', '[SEP]']\n",
      "Company Name: 'Närrische Frauen Himmelgeist e.V.' -> Geographical Indicators: ['[CLS]', 'När', '##rische', 'Frauen', 'Himmel', '##ge', '##ist', 'e', '.', 'V', '.', '[SEP]']\n",
      "Company Name: 'MS \"Favourisation\" Verwaltung GmbH' -> Geographical Indicators: ['[CLS]', 'MS', '\"', 'Fa', '##vour', '##isation', '\"', 'Verwaltung', 'GmbH', '[SEP]']\n",
      "Company Name: 'Wünsche Services GmbH' -> Geographical Indicators: ['[CLS]', 'W', '##ün', '##sche', 'Services', 'GmbH', '[SEP]']\n",
      "Company Name: 'Merica Capital GmbH' -> Geographical Indicators: ['[CLS]', 'Mer', '##ica', 'Capital', 'GmbH', '[SEP]']\n",
      "Company Name: 'Kröger Baugeräte Service GmbH' -> Geographical Indicators: ['[CLS]', 'Kr', '##ög', '##er', 'Bau', '##ger', '##äte', 'Service', 'GmbH', '[SEP]']\n",
      "Company Name: 'Achte display system GmbH' -> Geographical Indicators: ['[CLS]', 'A', '##chte', 'display', 'system', 'GmbH', '[SEP]']\n",
      "Company Name: 'Atlantik Hafenbetriebe Geuther & Schnitger GmbH & Co. KG' -> Geographical Indicators: ['[CLS]', 'Atlantik', 'Hafen', '##betrieb', '##e', 'G', '##eu', '##ther', '&', 'Sc', '##hn', '##it', '##ger', 'GmbH', '&', 'Co', '.', 'KG', '[SEP]']\n",
      "Company Name: 'TT Trading GmbH' -> Geographical Indicators: ['[CLS]', 'TT', 'Trading', 'GmbH', '[SEP]']\n",
      "Company Name: 'AVASPA Bremen Vermietungsgesellschaft mbH' -> Geographical Indicators: ['[CLS]', 'AV', '##AS', '##PA', 'Bremen', 'Ver', '##mie', '##tung', '##sgesellschaft', 'm', '##b', '##H', '[SEP]']\n",
      "Company Name: 'TOL Time of Luxury GmbH' -> Geographical Indicators: ['[CLS]', 'TO', '##L', 'Time', 'of', 'Lux', '##ury', 'GmbH', '[SEP]']\n",
      "Company Name: 'Mutabor Brandspaces GmbH' -> Geographical Indicators: ['[CLS]', 'Mu', '##tab', '##or', 'Brand', '##space', '##s', 'GmbH', '[SEP]']\n",
      "Company Name: 'Gebäudereinigung Wolff GmbH' -> Geographical Indicators: ['[CLS]', 'Gebäude', '##rei', '##nig', '##ung', 'Wolff', 'GmbH', '[SEP]']\n",
      "Company Name: 'He:Lee EXPO - Messe : Consulting : Project Management Verwaltungs GmbH' -> Geographical Indicators: ['[CLS]', 'He', ':', 'Lee', 'EX', '##PO', '-', 'Messe', ':', 'Con', '##sul', '##ting', ':', 'Project', 'Management', 'Verwaltung', '##s', 'GmbH', '[SEP]']\n",
      "Company Name: 'Eurofins GSC Germany GmbH' -> Geographical Indicators: ['[CLS]', 'Euro', '##fin', '##s', 'GSC', 'Germany', 'GmbH', '[SEP]']\n",
      "Company Name: 'EQUINOX Investment GmbH' -> Geographical Indicators: ['[CLS]', 'E', '##Q', '##UI', '##NO', '##X', 'Investment', 'GmbH', '[SEP]']\n",
      "Company Name: 'Sell Facility Services GmbH' -> Geographical Indicators: ['[CLS]', '##ll', '[SEP]']\n",
      "Company Name: 'BLVÈ UG (haftungsbeschränkt)' -> Geographical Indicators: ['[CLS]', 'BL', '##V', '##È', 'U', '##G', '(', 'haft', '##ung', '##s', '##bes', '##ch', '##r', '##änkt', ')', '[SEP]']\n",
      "Company Name: 'Luzemann Services Verwaltungsgesellschaft mbH' -> Geographical Indicators: ['[CLS]', 'Luz', '##emann', 'Services', 'Verwaltung', '##sgesellschaft', 'm', '##b', '##H', '[SEP]']\n",
      "Company Name: 'Sasol Wax GmbH' -> Geographical Indicators: ['[CLS]', 'Sa', '##sol', 'W', '##ax', 'GmbH', '[SEP]']\n",
      "Company Name: 'Molten Europe GmbH' -> Geographical Indicators: ['[CLS]', 'Mol', '##ten', 'Europe', 'GmbH', '[SEP]']\n",
      "Company Name: 'VIERTE Fonds-Beteiligungsgesellschaft mbH' -> Geographical Indicators: ['[CLS]', 'VI', '##ER', '##TE', 'Fonds', '-', 'Beteiligung', '##sgesellschaft', 'm', '##b', '##H', '[SEP]']\n",
      "Company Name: 'GENIGO GmbH' -> Geographical Indicators: ['[CLS]', 'GE', '##NI', '##GO', 'GmbH', '[SEP]']\n",
      "Company Name: 'WEHR BULKCARRIERS GmbH & Co KG' -> Geographical Indicators: ['[CLS]', 'W', '##E', '##H', '##R', 'B', '##UL', '##K', '##CA', '##R', '##RI', '##ER', '##S', 'GmbH', '&', 'Co', 'KG', '[SEP]']\n",
      "Company Name: 'R.F.L. Gewerbe Immobilien Verwaltungs GmbH' -> Geographical Indicators: ['[CLS]', 'R', '.', 'F', '.', 'L', '.', 'G', '##ew', '##erbe', 'Im', '##mobil', '##ien', 'Verwaltung', '##s', 'GmbH', '[SEP]']\n",
      "Company Name: 'Verwaltungsgesellschaft EGRIMA mbH' -> Geographical Indicators: ['[CLS]', 'Verwaltung', '##sgesellschaft', 'E', '##G', '##RI', '##MA', 'm', '##b', '##H', '[SEP]']\n",
      "Company Name: 'Lampe Asset Management GmbH' -> Geographical Indicators: ['[CLS]', 'Lam', '##pe', 'Ass', '##et', 'Management', 'GmbH', '[SEP]']\n",
      "Company Name: 'Hartungstraße 12 Verwaltungsgesellschaft mbH' -> Geographical Indicators: ['[CLS]', 'Hart', '##ung', '##straße', '12', 'Verwaltung', '##sgesellschaft', 'm', '##b', '##H', '[SEP]']\n",
      "Company Name: 'ES Medien Agentur + Handelsgesellschaft mbH & Co. KG' -> Geographical Indicators: ['[CLS]', 'ES', 'Medien', 'Agent', '##ur', '+', 'Handel', '##sgesellschaft', 'm', '##b', '##H', '&', 'Co', '.', 'KG', '[SEP]']\n",
      "Company Name: 'Dewigo (Dealing with goods) UG (haftungsbeschränkt)' -> Geographical Indicators: ['[CLS]', 'Dewi', '##go', '(', 'Deal', '##ing', 'with', 'goods', ')', 'U', '##G', '(', 'haft', '##ung', '##s', '##bes', '##ch', '##r', '##änkt', ')', '[SEP]']\n",
      "Company Name: 'NPC HOTELENTWICKLUNGS U. - MANAGEMENT GmbH' -> Geographical Indicators: ['[CLS]', 'NP', '##C', 'H', '##OT', '##EL', '##EN', '##T', '##W', '##IC', '##K', '##L', '##UN', '##GS', 'U', '.', '-', 'MAN', '##AG', '##EM', '##EN', '##T', 'GmbH', '[SEP]']\n",
      "Company Name: 'TRACOA GmbH' -> Geographical Indicators: ['[CLS]', 'TR', '##AC', '##O', '##A', 'GmbH', '[SEP]']\n",
      "Company Name: 'Muehlhan Deutschland GmbH' -> Geographical Indicators: ['[CLS]', 'Mu', '##eh', '##lha', '##n', 'Deutschland', 'GmbH', '[SEP]']\n",
      "Company Name: 'Harburg-Freudenberger Maschinenbau GmbH' -> Geographical Indicators: ['[CLS]', 'Har', '##burg', '-', 'Freud', '##enberg', '##er', 'Maschinen', '##bau', 'GmbH', '[SEP]']\n"
     ]
    }
   ],
   "execution_count": 41
  },
  {
   "metadata": {},
   "cell_type": "markdown",
   "source": "Out of the box, it seems that is not working that well... ",
   "id": "d03c982ce6bb2484"
  },
  {
   "metadata": {},
   "cell_type": "markdown",
   "source": "",
   "id": "fe0088ba8c34cb65"
  },
  {
   "metadata": {},
   "cell_type": "code",
   "outputs": [],
   "execution_count": null,
   "source": "",
   "id": "d2f7757b4ac2b9ff"
  },
  {
   "metadata": {},
   "cell_type": "markdown",
   "source": [
    "## Mordecai\n",
    "\n",
    "[Github Repo](https://github.com/openeventdata/mordecai)\n",
    "\n",
    "It uses spaCy's named entity recognition to extract placenames from the text.\n",
    "\n",
    "It uses the geonames gazetteer in an Elasticsearch index (with some custom logic) to find the potential coordinates of extracted place names.\n",
    "\n",
    "It uses neural networks implemented in Keras and trained on new annotated English-language data labeled with Prodigy to infer the correct country and correct gazetteer entries for each placename."
   ],
   "id": "8db167d956dc02a1"
  },
  {
   "metadata": {
    "ExecuteTime": {
     "end_time": "2024-09-25T07:01:36.503450Z",
     "start_time": "2024-09-25T06:58:21.383220Z"
    }
   },
   "cell_type": "code",
   "source": "!python -m spacy download en_core_web_lg ",
   "id": "d4c30c9c8a720150",
   "outputs": [
    {
     "name": "stderr",
     "output_type": "stream",
     "text": [
      "huggingface/tokenizers: The current process just got forked, after parallelism has already been used. Disabling parallelism to avoid deadlocks...\n",
      "To disable this warning, you can either:\n",
      "\t- Avoid using `tokenizers` before the fork if possible\n",
      "\t- Explicitly set the environment variable TOKENIZERS_PARALLELISM=(true | false)\n"
     ]
    },
    {
     "name": "stdout",
     "output_type": "stream",
     "text": [
      "Collecting en_core_web_lg==2.3.1\r\n",
      "  Downloading https://github.com/explosion/spacy-models/releases/download/en_core_web_lg-2.3.1/en_core_web_lg-2.3.1.tar.gz (782.7 MB)\r\n",
      "\u001B[2K     \u001B[90m━━━━━━━━━━━━━━━━━━━━━━━━━━━━━━━━━━━━━━━\u001B[0m \u001B[32m782.7/782.7 MB\u001B[0m \u001B[31m2.2 MB/s\u001B[0m eta \u001B[36m0:00:00\u001B[0m00:01\u001B[0m00:04\u001B[0m\r\n",
      "\u001B[?25h  Preparing metadata (setup.py) ... \u001B[?25ldone\r\n",
      "\u001B[?25hRequirement already satisfied: spacy<2.4.0,>=2.3.0 in ./.venv/lib/python3.11/site-packages (from en_core_web_lg==2.3.1) (2.3.9)\r\n",
      "Requirement already satisfied: murmurhash<1.1.0,>=0.28.0 in ./.venv/lib/python3.11/site-packages (from spacy<2.4.0,>=2.3.0->en_core_web_lg==2.3.1) (1.0.10)\r\n",
      "Requirement already satisfied: cymem<2.1.0,>=2.0.2 in ./.venv/lib/python3.11/site-packages (from spacy<2.4.0,>=2.3.0->en_core_web_lg==2.3.1) (2.0.8)\r\n",
      "Requirement already satisfied: preshed<3.1.0,>=3.0.2 in ./.venv/lib/python3.11/site-packages (from spacy<2.4.0,>=2.3.0->en_core_web_lg==2.3.1) (3.0.9)\r\n",
      "Requirement already satisfied: thinc<7.5.0,>=7.4.1 in ./.venv/lib/python3.11/site-packages (from spacy<2.4.0,>=2.3.0->en_core_web_lg==2.3.1) (7.4.6)\r\n",
      "Requirement already satisfied: blis<0.8.0,>=0.4.0 in ./.venv/lib/python3.11/site-packages (from spacy<2.4.0,>=2.3.0->en_core_web_lg==2.3.1) (0.7.11)\r\n",
      "Requirement already satisfied: wasabi<1.1.0,>=0.4.0 in ./.venv/lib/python3.11/site-packages (from spacy<2.4.0,>=2.3.0->en_core_web_lg==2.3.1) (0.10.1)\r\n",
      "Requirement already satisfied: srsly<1.1.0,>=1.0.2 in ./.venv/lib/python3.11/site-packages (from spacy<2.4.0,>=2.3.0->en_core_web_lg==2.3.1) (1.0.7)\r\n",
      "Requirement already satisfied: catalogue<1.1.0,>=0.0.7 in ./.venv/lib/python3.11/site-packages (from spacy<2.4.0,>=2.3.0->en_core_web_lg==2.3.1) (1.0.2)\r\n",
      "Requirement already satisfied: tqdm<5.0.0,>=4.38.0 in ./.venv/lib/python3.11/site-packages (from spacy<2.4.0,>=2.3.0->en_core_web_lg==2.3.1) (4.66.5)\r\n",
      "Requirement already satisfied: setuptools in ./.venv/lib/python3.11/site-packages (from spacy<2.4.0,>=2.3.0->en_core_web_lg==2.3.1) (65.5.0)\r\n",
      "Requirement already satisfied: numpy>=1.15.0 in ./.venv/lib/python3.11/site-packages (from spacy<2.4.0,>=2.3.0->en_core_web_lg==2.3.1) (1.26.4)\r\n",
      "Requirement already satisfied: plac<1.2.0,>=0.9.6 in ./.venv/lib/python3.11/site-packages (from spacy<2.4.0,>=2.3.0->en_core_web_lg==2.3.1) (1.1.3)\r\n",
      "Requirement already satisfied: requests<3.0.0,>=2.13.0 in ./.venv/lib/python3.11/site-packages (from spacy<2.4.0,>=2.3.0->en_core_web_lg==2.3.1) (2.32.3)\r\n",
      "Requirement already satisfied: charset-normalizer<4,>=2 in ./.venv/lib/python3.11/site-packages (from requests<3.0.0,>=2.13.0->spacy<2.4.0,>=2.3.0->en_core_web_lg==2.3.1) (3.3.2)\r\n",
      "Requirement already satisfied: idna<4,>=2.5 in ./.venv/lib/python3.11/site-packages (from requests<3.0.0,>=2.13.0->spacy<2.4.0,>=2.3.0->en_core_web_lg==2.3.1) (3.10)\r\n",
      "Requirement already satisfied: urllib3<3,>=1.21.1 in ./.venv/lib/python3.11/site-packages (from requests<3.0.0,>=2.13.0->spacy<2.4.0,>=2.3.0->en_core_web_lg==2.3.1) (1.26.20)\r\n",
      "Requirement already satisfied: certifi>=2017.4.17 in ./.venv/lib/python3.11/site-packages (from requests<3.0.0,>=2.13.0->spacy<2.4.0,>=2.3.0->en_core_web_lg==2.3.1) (2024.8.30)\r\n",
      "Building wheels for collected packages: en_core_web_lg\r\n",
      "  Building wheel for en_core_web_lg (setup.py) ... \u001B[?25ldone\r\n",
      "\u001B[?25h  Created wheel for en_core_web_lg: filename=en_core_web_lg-2.3.1-py3-none-any.whl size=782936103 sha256=201b16d8734a2fe1db07d22dd06b76f422328af83b062a617d8099c611d66fe6\r\n",
      "  Stored in directory: /Users/dominikpichler/Library/Caches/pip/wheels/08/6c/5c/3eb7da3af2dcb26aaf97a09112e235d78c3968c3248eebd688\r\n",
      "Successfully built en_core_web_lg\r\n",
      "Installing collected packages: en_core_web_lg\r\n",
      "Successfully installed en_core_web_lg-2.3.1\r\n",
      "\r\n",
      "\u001B[1m[\u001B[0m\u001B[34;49mnotice\u001B[0m\u001B[1;39;49m]\u001B[0m\u001B[39;49m A new release of pip available: \u001B[0m\u001B[31;49m22.3\u001B[0m\u001B[39;49m -> \u001B[0m\u001B[32;49m24.2\u001B[0m\r\n",
      "\u001B[1m[\u001B[0m\u001B[34;49mnotice\u001B[0m\u001B[1;39;49m]\u001B[0m\u001B[39;49m To update, run: \u001B[0m\u001B[32;49mpip install --upgrade pip\u001B[0m\r\n",
      "\u001B[38;5;2m✔ Download and installation successful\u001B[0m\r\n",
      "You can now load the model via spacy.load('en_core_web_lg')\r\n"
     ]
    }
   ],
   "execution_count": 43
  },
  {
   "metadata": {
    "ExecuteTime": {
     "end_time": "2024-09-25T07:12:32.594877Z",
     "start_time": "2024-09-25T07:12:32.594827Z"
    }
   },
   "cell_type": "code",
   "source": [
    "%%sh\n",
    "docker pull elasticsearch:5.5.2\n",
    "wget https://andrewhalterman.com/files/geonames_index.tar.gz --output-file=wget_log.txt\n",
    "tar -xzf geonames_index.tar.gz\n",
    "docker run -d -p 127.0.0.1:9200:9200 -v $(pwd)/geonames_index/:/usr/share/elasticsearch/data elasticsearch:5.5.2"
   ],
   "id": "29f083a9d9074d8e",
   "outputs": [],
   "execution_count": null
  },
  {
   "metadata": {
    "ExecuteTime": {
     "end_time": "2024-09-25T07:29:12.620185Z",
     "start_time": "2024-09-25T07:29:07.303823Z"
    }
   },
   "cell_type": "code",
   "source": [
    "database_path = 'openregister.db'  # Path to your SQLite database file\n",
    "query = 'SELECT name FROM company LIMIT 100;' \n",
    "company_names = run_query(database_path, query)\n",
    "\n",
    "geo = Geoparser()\n",
    "for company_name in company_names:\n",
    "    geo.geoparse(company_name)"
   ],
   "id": "2e2b57feab06a611",
   "outputs": [
    {
     "name": "stdout",
     "output_type": "stream",
     "text": [
      "Models path: /Users/dominikpichler/Documents/Git/OpenSource/Balmung/ER-NLP/.venv/lib/python3.11/site-packages/mordecai/models/\n"
     ]
    },
    {
     "ename": "AttributeError",
     "evalue": "module 'collections' has no attribute 'Mapping'",
     "output_type": "error",
     "traceback": [
      "\u001B[0;31m---------------------------------------------------------------------------\u001B[0m",
      "\u001B[0;31mAttributeError\u001B[0m                            Traceback (most recent call last)",
      "Cell \u001B[0;32mIn[6], line 5\u001B[0m\n\u001B[1;32m      2\u001B[0m query \u001B[38;5;241m=\u001B[39m \u001B[38;5;124m'\u001B[39m\u001B[38;5;124mSELECT name FROM company LIMIT 100;\u001B[39m\u001B[38;5;124m'\u001B[39m \n\u001B[1;32m      3\u001B[0m company_names \u001B[38;5;241m=\u001B[39m run_query(database_path, query)\n\u001B[0;32m----> 5\u001B[0m geo \u001B[38;5;241m=\u001B[39m \u001B[43mGeoparser\u001B[49m\u001B[43m(\u001B[49m\u001B[43m)\u001B[49m\n\u001B[1;32m      6\u001B[0m \u001B[38;5;28;01mfor\u001B[39;00m company_name \u001B[38;5;129;01min\u001B[39;00m company_names:\n\u001B[1;32m      7\u001B[0m     geo\u001B[38;5;241m.\u001B[39mgeoparse(company_name)\n",
      "File \u001B[0;32m~/Documents/Git/OpenSource/Balmung/ER-NLP/.venv/lib/python3.11/site-packages/mordecai/geoparse.py:50\u001B[0m, in \u001B[0;36mGeoparser.__init__\u001B[0;34m(self, nlp, es_hosts, es_port, es_ssl, es_auth, verbose, country_threshold, threads, progress, training, models_path, **kwargs)\u001B[0m\n\u001B[1;32m     48\u001B[0m \u001B[38;5;28mself\u001B[39m\u001B[38;5;241m.\u001B[39m_both_codes \u001B[38;5;241m=\u001B[39m utilities\u001B[38;5;241m.\u001B[39mmake_country_nationality_list(\u001B[38;5;28mself\u001B[39m\u001B[38;5;241m.\u001B[39m_cts, DATA_PATH \u001B[38;5;241m+\u001B[39m \u001B[38;5;124m\"\u001B[39m\u001B[38;5;124mnat_df.csv\u001B[39m\u001B[38;5;124m\"\u001B[39m)\n\u001B[1;32m     49\u001B[0m \u001B[38;5;28mself\u001B[39m\u001B[38;5;241m.\u001B[39m_admin1_dict \u001B[38;5;241m=\u001B[39m utilities\u001B[38;5;241m.\u001B[39mread_in_admin1(DATA_PATH \u001B[38;5;241m+\u001B[39m \u001B[38;5;124m\"\u001B[39m\u001B[38;5;124madmin1CodesASCII.json\u001B[39m\u001B[38;5;124m\"\u001B[39m)\n\u001B[0;32m---> 50\u001B[0m \u001B[38;5;28mself\u001B[39m\u001B[38;5;241m.\u001B[39mconn \u001B[38;5;241m=\u001B[39m \u001B[43mutilities\u001B[49m\u001B[38;5;241;43m.\u001B[39;49m\u001B[43msetup_es\u001B[49m\u001B[43m(\u001B[49m\u001B[43mes_hosts\u001B[49m\u001B[43m,\u001B[49m\u001B[43m \u001B[49m\u001B[43mes_port\u001B[49m\u001B[43m,\u001B[49m\u001B[43m \u001B[49m\u001B[43mes_ssl\u001B[49m\u001B[43m,\u001B[49m\u001B[43m \u001B[49m\u001B[43mes_auth\u001B[49m\u001B[43m)\u001B[49m\n\u001B[1;32m     51\u001B[0m \u001B[38;5;28;01mif\u001B[39;00m \u001B[38;5;129;01mnot\u001B[39;00m training:\n\u001B[1;32m     52\u001B[0m     \u001B[38;5;66;03m# when retraining models, don't load old models\u001B[39;00m\n\u001B[1;32m     53\u001B[0m     \u001B[38;5;28mself\u001B[39m\u001B[38;5;241m.\u001B[39mcountry_model \u001B[38;5;241m=\u001B[39m keras\u001B[38;5;241m.\u001B[39mmodels\u001B[38;5;241m.\u001B[39mload_model(models_path \u001B[38;5;241m+\u001B[39m \u001B[38;5;124m\"\u001B[39m\u001B[38;5;124mcountry_model.h5\u001B[39m\u001B[38;5;124m\"\u001B[39m)\n",
      "File \u001B[0;32m~/Documents/Git/OpenSource/Balmung/ER-NLP/.venv/lib/python3.11/site-packages/mordecai/utilities.py:260\u001B[0m, in \u001B[0;36msetup_es\u001B[0;34m(hosts, port, use_ssl, auth)\u001B[0m\n\u001B[1;32m    257\u001B[0m     kwargs\u001B[38;5;241m.\u001B[39mupdate(http_auth\u001B[38;5;241m=\u001B[39mauth)\n\u001B[1;32m    259\u001B[0m CLIENT \u001B[38;5;241m=\u001B[39m Elasticsearch(\u001B[38;5;241m*\u001B[39m\u001B[38;5;241m*\u001B[39mkwargs)\n\u001B[0;32m--> 260\u001B[0m S \u001B[38;5;241m=\u001B[39m \u001B[43mSearch\u001B[49m\u001B[43m(\u001B[49m\u001B[43musing\u001B[49m\u001B[38;5;241;43m=\u001B[39;49m\u001B[43mCLIENT\u001B[49m\u001B[43m,\u001B[49m\u001B[43m \u001B[49m\u001B[43mindex\u001B[49m\u001B[38;5;241;43m=\u001B[39;49m\u001B[38;5;124;43m\"\u001B[39;49m\u001B[38;5;124;43mgeonames\u001B[39;49m\u001B[38;5;124;43m\"\u001B[39;49m\u001B[43m)\u001B[49m\n\u001B[1;32m    261\u001B[0m \u001B[38;5;28;01mreturn\u001B[39;00m S\n",
      "File \u001B[0;32m~/Documents/Git/OpenSource/Balmung/ER-NLP/.venv/lib/python3.11/site-packages/elasticsearch_dsl/search.py:228\u001B[0m, in \u001B[0;36mSearch.__init__\u001B[0;34m(self, **kwargs)\u001B[0m\n\u001B[1;32m    217\u001B[0m \u001B[38;5;28;01mdef\u001B[39;00m \u001B[38;5;21m__init__\u001B[39m(\u001B[38;5;28mself\u001B[39m, \u001B[38;5;241m*\u001B[39m\u001B[38;5;241m*\u001B[39mkwargs):\n\u001B[1;32m    218\u001B[0m \u001B[38;5;250m    \u001B[39m\u001B[38;5;124;03m\"\"\"\u001B[39;00m\n\u001B[1;32m    219\u001B[0m \u001B[38;5;124;03m    Search request to elasticsearch.\u001B[39;00m\n\u001B[1;32m    220\u001B[0m \n\u001B[0;32m   (...)\u001B[0m\n\u001B[1;32m    226\u001B[0m \u001B[38;5;124;03m    overriden by methods (`using`, `index` and `doc_type` respectively).\u001B[39;00m\n\u001B[1;32m    227\u001B[0m \u001B[38;5;124;03m    \"\"\"\u001B[39;00m\n\u001B[0;32m--> 228\u001B[0m     \u001B[38;5;28;43msuper\u001B[39;49m\u001B[43m(\u001B[49m\u001B[43mSearch\u001B[49m\u001B[43m,\u001B[49m\u001B[43m \u001B[49m\u001B[38;5;28;43mself\u001B[39;49m\u001B[43m)\u001B[49m\u001B[38;5;241;43m.\u001B[39;49m\u001B[38;5;21;43m__init__\u001B[39;49m\u001B[43m(\u001B[49m\u001B[38;5;241;43m*\u001B[39;49m\u001B[38;5;241;43m*\u001B[39;49m\u001B[43mkwargs\u001B[49m\u001B[43m)\u001B[49m\n\u001B[1;32m    230\u001B[0m     \u001B[38;5;28mself\u001B[39m\u001B[38;5;241m.\u001B[39maggs \u001B[38;5;241m=\u001B[39m AggsProxy(\u001B[38;5;28mself\u001B[39m)\n\u001B[1;32m    231\u001B[0m     \u001B[38;5;28mself\u001B[39m\u001B[38;5;241m.\u001B[39m_sort \u001B[38;5;241m=\u001B[39m []\n",
      "File \u001B[0;32m~/Documents/Git/OpenSource/Balmung/ER-NLP/.venv/lib/python3.11/site-packages/elasticsearch_dsl/search.py:96\u001B[0m, in \u001B[0;36mRequest.__init__\u001B[0;34m(self, using, index, doc_type, extra)\u001B[0m\n\u001B[1;32m     94\u001B[0m     \u001B[38;5;28;01mfor\u001B[39;00m dt \u001B[38;5;129;01min\u001B[39;00m doc_type:\n\u001B[1;32m     95\u001B[0m         \u001B[38;5;28mself\u001B[39m\u001B[38;5;241m.\u001B[39m_add_doc_type(dt)\n\u001B[0;32m---> 96\u001B[0m \u001B[38;5;28;01melif\u001B[39;00m \u001B[38;5;28misinstance\u001B[39m(doc_type, \u001B[43mcollections\u001B[49m\u001B[38;5;241;43m.\u001B[39;49m\u001B[43mMapping\u001B[49m):\n\u001B[1;32m     97\u001B[0m     \u001B[38;5;28mself\u001B[39m\u001B[38;5;241m.\u001B[39m_doc_type\u001B[38;5;241m.\u001B[39mextend(doc_type\u001B[38;5;241m.\u001B[39mkeys())\n\u001B[1;32m     98\u001B[0m     \u001B[38;5;28mself\u001B[39m\u001B[38;5;241m.\u001B[39m_doc_type_map\u001B[38;5;241m.\u001B[39mupdate(doc_type)\n",
      "\u001B[0;31mAttributeError\u001B[0m: module 'collections' has no attribute 'Mapping'"
     ]
    }
   ],
   "execution_count": 6
  },
  {
   "metadata": {},
   "cell_type": "markdown",
   "source": [
    "<span style=\"color: red;\"><br>Unfortunately the setup failed.<br> Partly due to my M1 Architecture. I'll retry later, but due to time contraints, I'll try different tools first</span>\n",
    "\n"
   ],
   "id": "d277e1a17165f07d"
  },
  {
   "metadata": {},
   "cell_type": "markdown",
   "source": [
    "I assume that maybe this task could also be solved best by applying Rule Based Extraction, as it is pretty clear what can be expected here.\n",
    "\n",
    "Rules might be extractable from sources like the following: \n",
    "[EU portal for EU data](https://data.europa.eu/en)\n"
   ],
   "id": "940136f64c2c7952"
  },
  {
   "metadata": {},
   "cell_type": "code",
   "outputs": [],
   "execution_count": null,
   "source": "# Owner- or founders names: ",
   "id": "ad85119b9f11ddf1"
  },
  {
   "metadata": {
    "ExecuteTime": {
     "end_time": "2024-09-25T08:16:07.117001Z",
     "start_time": "2024-09-25T08:16:00.351290Z"
    }
   },
   "cell_type": "code",
   "source": [
    "from pprint import pprint\n",
    "from german_nouns.lookup import Nouns\n",
    "\n",
    "# Initialize the Nouns object\n",
    "nouns = Nouns()\n",
    "\n",
    "def preprocess_text(text):\n",
    "    \"\"\"Tokenize and normalize the input text.\"\"\"\n",
    "    # Remove punctuation and split text into words\n",
    "    words = re.findall(r'\\b\\w+\\b', text.lower())\n",
    "    return words\n",
    "\n",
    "def filter_non_standard_words(text, nouns):\n",
    "    \"\"\"Filter out German nouns from the text.\"\"\"\n",
    "    words = preprocess_text(text)\n",
    "    non_standard_words = [word for word in words if word not in nouns]\n",
    "    return non_standard_words\n",
    "\n",
    "# Example usage\n",
    "text = \"\"\"\n",
    "Herr Müller ging mit Frau Schmidt in den Park. Dort trafen sie auf einen alten Freund, Herr Becker.\n",
    "\"\"\"\n",
    "\n",
    "# Filter out standard German nouns\n",
    "non_standard_words = filter_non_standard_words(text, nouns)\n",
    "print(\"Potential Names or Non-Standard Words:\", non_standard_words)"
   ],
   "id": "ba6f2a4730346b21",
   "outputs": [
    {
     "name": "stdout",
     "output_type": "stream",
     "text": [
      "Potential Names or Non-Standard Words: ['herr', 'müller', 'ging', 'mit', 'frau', 'schmidt', 'in', 'den', 'park', 'dort', 'trafen', 'sie', 'auf', 'einen', 'alten', 'freund', 'herr', 'becker']\n"
     ]
    }
   ],
   "execution_count": 8
  },
  {
   "metadata": {
    "ExecuteTime": {
     "end_time": "2024-09-25T08:37:02.022573Z",
     "start_time": "2024-09-25T08:36:50.787782Z"
    }
   },
   "cell_type": "code",
   "source": [
    "!python -m spacy download en_core_web_sm\n",
    "!python -m spacy download de_core_news_sm"
   ],
   "id": "5ee72d64c6f6eed3",
   "outputs": [
    {
     "name": "stdout",
     "output_type": "stream",
     "text": [
      "Collecting de_core_news_sm==2.3.0\r\n",
      "  Downloading https://github.com/explosion/spacy-models/releases/download/de_core_news_sm-2.3.0/de_core_news_sm-2.3.0.tar.gz (14.9 MB)\r\n",
      "\u001B[2K     \u001B[90m━━━━━━━━━━━━━━━━━━━━━━━━━━━━━━━━━━━━━━━━\u001B[0m \u001B[32m14.9/14.9 MB\u001B[0m \u001B[31m6.2 MB/s\u001B[0m eta \u001B[36m0:00:00\u001B[0m00:01\u001B[0m00:01\u001B[0m\r\n",
      "\u001B[?25h  Preparing metadata (setup.py) ... \u001B[?25ldone\r\n",
      "\u001B[?25hRequirement already satisfied: spacy<2.4.0,>=2.3.0 in ./.venv/lib/python3.11/site-packages (from de_core_news_sm==2.3.0) (2.3.9)\r\n",
      "Requirement already satisfied: murmurhash<1.1.0,>=0.28.0 in ./.venv/lib/python3.11/site-packages (from spacy<2.4.0,>=2.3.0->de_core_news_sm==2.3.0) (1.0.10)\r\n",
      "Requirement already satisfied: cymem<2.1.0,>=2.0.2 in ./.venv/lib/python3.11/site-packages (from spacy<2.4.0,>=2.3.0->de_core_news_sm==2.3.0) (2.0.8)\r\n",
      "Requirement already satisfied: preshed<3.1.0,>=3.0.2 in ./.venv/lib/python3.11/site-packages (from spacy<2.4.0,>=2.3.0->de_core_news_sm==2.3.0) (3.0.9)\r\n",
      "Requirement already satisfied: thinc<7.5.0,>=7.4.1 in ./.venv/lib/python3.11/site-packages (from spacy<2.4.0,>=2.3.0->de_core_news_sm==2.3.0) (7.4.6)\r\n",
      "Requirement already satisfied: blis<0.8.0,>=0.4.0 in ./.venv/lib/python3.11/site-packages (from spacy<2.4.0,>=2.3.0->de_core_news_sm==2.3.0) (0.7.11)\r\n",
      "Requirement already satisfied: wasabi<1.1.0,>=0.4.0 in ./.venv/lib/python3.11/site-packages (from spacy<2.4.0,>=2.3.0->de_core_news_sm==2.3.0) (0.10.1)\r\n",
      "Requirement already satisfied: srsly<1.1.0,>=1.0.2 in ./.venv/lib/python3.11/site-packages (from spacy<2.4.0,>=2.3.0->de_core_news_sm==2.3.0) (1.0.7)\r\n",
      "Requirement already satisfied: catalogue<1.1.0,>=0.0.7 in ./.venv/lib/python3.11/site-packages (from spacy<2.4.0,>=2.3.0->de_core_news_sm==2.3.0) (1.0.2)\r\n",
      "Requirement already satisfied: tqdm<5.0.0,>=4.38.0 in ./.venv/lib/python3.11/site-packages (from spacy<2.4.0,>=2.3.0->de_core_news_sm==2.3.0) (4.66.5)\r\n",
      "Requirement already satisfied: setuptools in ./.venv/lib/python3.11/site-packages (from spacy<2.4.0,>=2.3.0->de_core_news_sm==2.3.0) (65.5.0)\r\n",
      "Requirement already satisfied: numpy>=1.15.0 in ./.venv/lib/python3.11/site-packages (from spacy<2.4.0,>=2.3.0->de_core_news_sm==2.3.0) (1.26.4)\r\n",
      "Requirement already satisfied: plac<1.2.0,>=0.9.6 in ./.venv/lib/python3.11/site-packages (from spacy<2.4.0,>=2.3.0->de_core_news_sm==2.3.0) (1.1.3)\r\n",
      "Requirement already satisfied: requests<3.0.0,>=2.13.0 in ./.venv/lib/python3.11/site-packages (from spacy<2.4.0,>=2.3.0->de_core_news_sm==2.3.0) (2.32.3)\r\n",
      "Requirement already satisfied: charset-normalizer<4,>=2 in ./.venv/lib/python3.11/site-packages (from requests<3.0.0,>=2.13.0->spacy<2.4.0,>=2.3.0->de_core_news_sm==2.3.0) (3.3.2)\r\n",
      "Requirement already satisfied: idna<4,>=2.5 in ./.venv/lib/python3.11/site-packages (from requests<3.0.0,>=2.13.0->spacy<2.4.0,>=2.3.0->de_core_news_sm==2.3.0) (3.10)\r\n",
      "Requirement already satisfied: urllib3<3,>=1.21.1 in ./.venv/lib/python3.11/site-packages (from requests<3.0.0,>=2.13.0->spacy<2.4.0,>=2.3.0->de_core_news_sm==2.3.0) (1.26.20)\r\n",
      "Requirement already satisfied: certifi>=2017.4.17 in ./.venv/lib/python3.11/site-packages (from requests<3.0.0,>=2.13.0->spacy<2.4.0,>=2.3.0->de_core_news_sm==2.3.0) (2024.8.30)\r\n",
      "Building wheels for collected packages: de_core_news_sm\r\n",
      "  Building wheel for de_core_news_sm (setup.py) ... \u001B[?25ldone\r\n",
      "\u001B[?25h  Created wheel for de_core_news_sm: filename=de_core_news_sm-2.3.0-py3-none-any.whl size=14907560 sha256=4953d739953dcf8fd9356af56428a24aded37e3f38d113d3815a7b13c7d67eb6\r\n",
      "  Stored in directory: /Users/dominikpichler/Library/Caches/pip/wheels/32/6d/3d/c14f49fda18b39ba779ababe9b457bc7f35d58b5f21c1631f0\r\n",
      "Successfully built de_core_news_sm\r\n",
      "Installing collected packages: de_core_news_sm\r\n",
      "Successfully installed de_core_news_sm-2.3.0\r\n",
      "\r\n",
      "\u001B[1m[\u001B[0m\u001B[34;49mnotice\u001B[0m\u001B[1;39;49m]\u001B[0m\u001B[39;49m A new release of pip available: \u001B[0m\u001B[31;49m22.3\u001B[0m\u001B[39;49m -> \u001B[0m\u001B[32;49m24.2\u001B[0m\r\n",
      "\u001B[1m[\u001B[0m\u001B[34;49mnotice\u001B[0m\u001B[1;39;49m]\u001B[0m\u001B[39;49m To update, run: \u001B[0m\u001B[32;49mpip install --upgrade pip\u001B[0m\r\n",
      "\u001B[38;5;2m✔ Download and installation successful\u001B[0m\r\n",
      "You can now load the model via spacy.load('de_core_news_sm')\r\n"
     ]
    }
   ],
   "execution_count": 6
  },
  {
   "metadata": {},
   "cell_type": "markdown",
   "source": "",
   "id": "d03a8cafbd66f543"
  },
  {
   "metadata": {
    "jupyter": {
     "is_executing": true
    },
    "ExecuteTime": {
     "start_time": "2024-09-25T08:43:22.628885Z"
    }
   },
   "cell_type": "code",
   "source": [
    "import spacy\n",
    "\n",
    "# Load English and German models\n",
    "nlp_en = spacy.load(\"en_core_web_sm\")\n",
    "nlp_de = spacy.load(\"de_core_news_sm\")\n",
    "\n",
    "# Example English and German texts\n",
    "english_text = \"Elon R. Musk, Jeff Bezos, and Tim Apple were mentioned in the meeting while staying in munich.\"\n",
    "\n",
    "\n",
    "raw_german = \"Dr. Gottfried Neuhaus Treuhand GmbH\"\n",
    "german_text = \"Angela Merkel und Olaf Scholz wurden im Treffen erwähnt.\"\n",
    "\n",
    "def extract_person_names(text, nlp_model):\n",
    "    # Process the text using the specified language model\n",
    "    doc = nlp_model(text)\n",
    "    # Extract person names\n",
    "    z = [ent.text for ent in doc.ents if ent.label_ == \"GPE\"]\n",
    "    \n",
    "    return [ent.text for ent in doc.ents if ent.label_ == \"PERSON\"]\n",
    "\n",
    "# Extract names from English text\n",
    "english_names = extract_person_names(english_text, nlp_en)\n",
    "print(\"English names:\", english_names)\n",
    "\n",
    "# Extract names from German text\n",
    "german_names = extract_person_names(raw_german, nlp_de)\n",
    "print(\"German names:\", german_names)"
   ],
   "id": "d98951316fecea2",
   "outputs": [],
   "execution_count": null
  },
  {
   "metadata": {},
   "cell_type": "markdown",
   "source": "Alternative, names could also be transled to english using pythons [GoogleTrans](https://pypi.org/project/googletrans/) Package",
   "id": "f26febebb7e18e0b"
  }
 ],
 "metadata": {
  "kernelspec": {
   "display_name": "Python 3",
   "language": "python",
   "name": "python3"
  },
  "language_info": {
   "codemirror_mode": {
    "name": "ipython",
    "version": 2
   },
   "file_extension": ".py",
   "mimetype": "text/x-python",
   "name": "python",
   "nbconvert_exporter": "python",
   "pygments_lexer": "ipython2",
   "version": "2.7.6"
  }
 },
 "nbformat": 4,
 "nbformat_minor": 5
}
