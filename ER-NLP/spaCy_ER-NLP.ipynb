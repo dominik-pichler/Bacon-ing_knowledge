{
 "cells": [
  {
   "metadata": {},
   "cell_type": "code",
   "outputs": [],
   "execution_count": null,
   "source": [
    "import sqlite3\n",
    "import spacy\n"
   ],
   "id": "6c5eef2ce8b3d62a"
  },
  {
   "metadata": {},
   "cell_type": "code",
   "outputs": [],
   "execution_count": null,
   "source": [
    "def run_query(database_path, query):\n",
    "    # Connect to the SQLite database\n",
    "    # If the database does not exist, it will be created\n",
    "    connection = sqlite3.connect(database_path)\n",
    "    \n",
    "    try:\n",
    "        # Create a cursor object using the connection\n",
    "        cursor = connection.cursor()\n",
    "        \n",
    "        # Execute the SQL query\n",
    "        cursor.execute(query)\n",
    "        \n",
    "        # Fetch all results from the executed query\n",
    "        results = cursor.fetchall()\n",
    "        \n",
    "        # Turning list of tuples to list of strings for further processing\n",
    "        return [str(t[0]) for t in results]\n",
    "\n",
    "            \n",
    "    except sqlite3.Error as e:\n",
    "        print(f\"An error occurred: {e}\")\n",
    "        \n",
    "    finally:\n",
    "        \n",
    "        # Close the connection to the database\n",
    "        if connection:\n",
    "            connection.close()"
   ],
   "id": "initial_id"
  },
  {
   "metadata": {},
   "cell_type": "code",
   "outputs": [],
   "execution_count": null,
   "source": "",
   "id": "6801af4d24dd5a1c"
  }
 ],
 "metadata": {
  "kernelspec": {
   "display_name": "Python 3",
   "language": "python",
   "name": "python3"
  },
  "language_info": {
   "codemirror_mode": {
    "name": "ipython",
    "version": 2
   },
   "file_extension": ".py",
   "mimetype": "text/x-python",
   "name": "python",
   "nbconvert_exporter": "python",
   "pygments_lexer": "ipython2",
   "version": "2.7.6"
  }
 },
 "nbformat": 4,
 "nbformat_minor": 5
}
