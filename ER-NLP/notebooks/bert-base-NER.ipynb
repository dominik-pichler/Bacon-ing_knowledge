{
 "cells": [
  {
   "metadata": {
    "ExecuteTime": {
     "end_time": "2024-10-07T13:45:47.194941Z",
     "start_time": "2024-10-07T13:45:47.185508Z"
    }
   },
   "cell_type": "code",
   "source": [
    "import pandas as pd\n",
    "import sqlite3\n",
    "from transformers import AutoTokenizer, AutoModelForTokenClassification\n",
    "from transformers import pipeline\n"
   ],
   "id": "5b029ade2bb586fd",
   "outputs": [],
   "execution_count": 2
  },
  {
   "metadata": {
    "ExecuteTime": {
     "end_time": "2024-10-07T13:47:46.960504Z",
     "start_time": "2024-10-07T13:47:46.955941Z"
    }
   },
   "cell_type": "code",
   "source": [
    "def run_query(database_path, query):\n",
    "    # Connect to the SQLite database\n",
    "    # If the database does not exist, it will be created\n",
    "    connection = sqlite3.connect(database_path)\n",
    "    \n",
    "    try:\n",
    "        # Create a cursor object using the connection\n",
    "        cursor = connection.cursor()\n",
    "        \n",
    "        # Execute the SQL query\n",
    "        cursor.execute(query)\n",
    "        \n",
    "        # Fetch all results from the executed query\n",
    "        results = cursor.fetchall()\n",
    "        \n",
    "        # Turning list of tuples to list of strings for further processing\n",
    "        return [str(t[0]) for t in results]\n",
    "\n",
    "            \n",
    "    except sqlite3.Error as e:\n",
    "        print(f\"An error occurred: {e}\")\n",
    "        \n",
    "    finally:\n",
    "        \n",
    "        # Close the connection to the database\n",
    "        if connection:\n",
    "            connection.close()\n"
   ],
   "id": "b1e6d844dbf5c28",
   "outputs": [],
   "execution_count": 4
  },
  {
   "metadata": {
    "ExecuteTime": {
     "end_time": "2024-10-07T13:52:07.783013Z",
     "start_time": "2024-10-07T13:52:07.774381Z"
    }
   },
   "cell_type": "code",
   "source": [
    "database_path = '../openregister.db'  # Path to your SQLite database file\n",
    "query = 'SELECT name FROM company LIMIT 250;'  # Replace 'your_table' with your actual table name\n",
    "\n",
    "company_names = run_query(database_path, query)\n"
   ],
   "id": "251a84a51151ab49",
   "outputs": [],
   "execution_count": 9
  },
  {
   "metadata": {
    "jupyter": {
     "is_executing": true
    },
    "ExecuteTime": {
     "start_time": "2024-10-07T13:52:12.051501Z"
    }
   },
   "cell_type": "code",
   "source": [
    "\n",
    "tokenizer = AutoTokenizer.from_pretrained(\"dslim/bert-base-NER\")\n",
    "model = AutoModelForTokenClassification.from_pretrained(\"dslim/bert-base-NER\")\n",
    "\n",
    "nlp = pipeline(\"ner\", model=model, tokenizer=tokenizer)\n",
    "\n",
    "results = []\n",
    "for company_name in company_names:\n",
    "    results.append(nlp(company_name))\n",
    "# Flatten the list of lists into a single list\n",
    "flat_data = [item for sublist in results for item in sublist]\n",
    "\n",
    "# Convert to DataFrame\n",
    "df = pd.DataFrame(flat_data)\n",
    "print(df)"
   ],
   "id": "initial_id",
   "outputs": [
    {
     "name": "stderr",
     "output_type": "stream",
     "text": [
      "/Users/dominikpichler/Documents/Git/OpenSource/Balmung/ER-NLP/.venv/lib/python3.11/site-packages/transformers/tokenization_utils_base.py:1601: FutureWarning: `clean_up_tokenization_spaces` was not set. It will be set to `True` by default. This behavior will be depracted in transformers v4.45, and will be then set to `False` by default. For more details check this issue: https://github.com/huggingface/transformers/issues/31884\n",
      "  warnings.warn(\n",
      "Some weights of the model checkpoint at dslim/bert-base-NER were not used when initializing BertForTokenClassification: ['bert.pooler.dense.bias', 'bert.pooler.dense.weight']\n",
      "- This IS expected if you are initializing BertForTokenClassification from the checkpoint of a model trained on another task or with another architecture (e.g. initializing a BertForSequenceClassification model from a BertForPreTraining model).\n",
      "- This IS NOT expected if you are initializing BertForTokenClassification from the checkpoint of a model that you expect to be exactly identical (initializing a BertForSequenceClassification model from a BertForSequenceClassification model).\n",
      "Hardware accelerator e.g. GPU is available in the environment, but no `device` argument is passed to the `Pipeline` object. Model will be on CPU.\n"
     ]
    }
   ],
   "execution_count": null
  }
 ],
 "metadata": {
  "kernelspec": {
   "display_name": "Python 3",
   "language": "python",
   "name": "python3"
  },
  "language_info": {
   "codemirror_mode": {
    "name": "ipython",
    "version": 2
   },
   "file_extension": ".py",
   "mimetype": "text/x-python",
   "name": "python",
   "nbconvert_exporter": "python",
   "pygments_lexer": "ipython2",
   "version": "2.7.6"
  }
 },
 "nbformat": 4,
 "nbformat_minor": 5
}
