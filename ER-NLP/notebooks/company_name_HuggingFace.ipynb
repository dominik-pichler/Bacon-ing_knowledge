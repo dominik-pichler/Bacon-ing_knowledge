{
 "cells": [
  {
   "metadata": {},
   "cell_type": "markdown",
   "source": "",
   "id": "4364129a4373ab13"
  },
  {
   "metadata": {
    "ExecuteTime": {
     "end_time": "2024-10-01T15:39:52.947510Z",
     "start_time": "2024-10-01T15:39:45.980689Z"
    }
   },
   "cell_type": "code",
   "source": [
    "from transformers import AutoTokenizer, AutoModelForTokenClassification, pipeline\n",
    "from pandas import json_normalize\n",
    "import sqlite3\n",
    "import matplotlib.pyplot as plt\n",
    "from tqdm import tqdm"
   ],
   "id": "initial_id",
   "outputs": [],
   "execution_count": 1
  },
  {
   "metadata": {},
   "cell_type": "markdown",
   "source": "# elenanereiss/bert-german-ler",
   "id": "c46fe4257f26657c"
  },
  {
   "metadata": {
    "ExecuteTime": {
     "end_time": "2024-10-01T13:59:42.613544Z",
     "start_time": "2024-10-01T13:59:41.792066Z"
    }
   },
   "cell_type": "code",
   "source": [
    "tokenizer = AutoTokenizer.from_pretrained(\"elenanereiss/bert-german-ler\")\n",
    "model = AutoModelForTokenClassification.from_pretrained(\"elenanereiss/bert-german-ler\")\n",
    "nlp = pipeline(\"ner\", model=model, tokenizer=tokenizer)\n"
   ],
   "id": "d4da2b1f35685e8b",
   "outputs": [
    {
     "name": "stderr",
     "output_type": "stream",
     "text": [
      "/Users/dominikpichler/Documents/Git/OpenSource/Balmung/ER-NLP/.venv/lib/python3.11/site-packages/transformers/tokenization_utils_base.py:1601: FutureWarning: `clean_up_tokenization_spaces` was not set. It will be set to `True` by default. This behavior will be depracted in transformers v4.45, and will be then set to `False` by default. For more details check this issue: https://github.com/huggingface/transformers/issues/31884\n",
      "  warnings.warn(\n",
      "Hardware accelerator e.g. GPU is available in the environment, but no `device` argument is passed to the `Pipeline` object. Model will be on CPU.\n"
     ]
    }
   ],
   "execution_count": 14
  },
  {
   "metadata": {
    "ExecuteTime": {
     "end_time": "2024-10-01T15:39:52.951686Z",
     "start_time": "2024-10-01T15:39:52.948935Z"
    }
   },
   "cell_type": "code",
   "source": [
    "def run_query(database_path, query):\n",
    "    # Connect to the SQLite database\n",
    "    # If the database does not exist, it will be created\n",
    "    connection = sqlite3.connect(database_path)\n",
    "    \n",
    "    try:\n",
    "        # Create a cursor object using the connection\n",
    "        cursor = connection.cursor()\n",
    "        \n",
    "        # Execute the SQL query\n",
    "        cursor.execute(query)\n",
    "        \n",
    "        # Fetch all results from the executed query\n",
    "        results = cursor.fetchall()\n",
    "        \n",
    "        # Turning list of tuples to list of strings for further processing\n",
    "        return [str(t[0]) for t in results]\n",
    "\n",
    "            \n",
    "    except sqlite3.Error as e:\n",
    "        print(f\"An error occurred: {e}\")\n",
    "        \n",
    "    finally:\n",
    "        \n",
    "        # Close the connection to the database\n",
    "        if connection:\n",
    "            connection.close()"
   ],
   "id": "ec529191fd2059bf",
   "outputs": [],
   "execution_count": 2
  },
  {
   "metadata": {
    "ExecuteTime": {
     "end_time": "2024-10-01T15:40:02.445454Z",
     "start_time": "2024-10-01T15:40:02.399919Z"
    }
   },
   "cell_type": "code",
   "source": [
    "\n",
    "database_path = 'openregister.db'  # Path to your SQLite database file\n",
    "query = 'SELECT name FROM company LIMIT 100;'  # Replace 'your_table' with your actual table name\n",
    "\n",
    "company_names = run_query(database_path, query)\n",
    "\n"
   ],
   "id": "749fe245d43131f5",
   "outputs": [],
   "execution_count": 3
  },
  {
   "metadata": {
    "ExecuteTime": {
     "end_time": "2024-10-01T14:14:16.396957Z",
     "start_time": "2024-10-01T14:05:08.078939Z"
    }
   },
   "cell_type": "code",
   "source": [
    "list_nlp_results = []\n",
    "for company_name in tqdm(company_names):\n",
    "    \n",
    "    list_nlp_results.append(nlp(company_name))\n",
    "    \n",
    "flattened_data = [item for result in list_nlp_results for item in result]\n",
    "print(flattened_data)"
   ],
   "id": "428e4c7a3bd81f8",
   "outputs": [
    {
     "name": "stderr",
     "output_type": "stream",
     "text": [
      "100%|██████████| 10000/10000 [09:08<00:00, 18.24it/s]IOPub data rate exceeded.\n",
      "The Jupyter server will temporarily stop sending output\n",
      "to the client in order to avoid crashing it.\n",
      "To change this limit, set the config variable\n",
      "`--ServerApp.iopub_data_rate_limit`.\n",
      "\n",
      "Current values:\n",
      "ServerApp.iopub_data_rate_limit=1000000.0 (bytes/sec)\n",
      "ServerApp.rate_limit_window=3.0 (secs)\n",
      "\n",
      "\n"
     ]
    }
   ],
   "execution_count": 29
  },
  {
   "metadata": {
    "ExecuteTime": {
     "end_time": "2024-10-01T14:14:27.716386Z",
     "start_time": "2024-10-01T14:14:27.536164Z"
    }
   },
   "cell_type": "code",
   "source": [
    "df = json_normalize(flattened_data)\n",
    "df.to_csv('company_name_HuggingFace_GoogleBert.csv')\n"
   ],
   "id": "787467208bd87664",
   "outputs": [],
   "execution_count": 30
  },
  {
   "metadata": {
    "ExecuteTime": {
     "end_time": "2024-10-01T14:14:29.382932Z",
     "start_time": "2024-10-01T14:14:29.159003Z"
    }
   },
   "cell_type": "code",
   "source": [
    "entity_counts = df['entity'].value_counts()\n",
    "\n",
    "# Print the counts\n",
    "print(\"Number of elements per entity:\")\n",
    "print(entity_counts)\n",
    "\n",
    "# Plot a bar chart of the counts\n",
    "plt.figure(figsize=(10, 6))\n",
    "entity_counts.plot(kind='bar', color='skyblue')\n",
    "plt.title('Number of Elements per Entity')\n",
    "plt.xlabel('Entity')\n",
    "plt.ylabel('Count')\n",
    "plt.xticks(rotation=45)\n",
    "plt.tight_layout()\n",
    "plt.show()"
   ],
   "id": "8fdf643b8d3320bd",
   "outputs": [
    {
     "name": "stdout",
     "output_type": "stream",
     "text": [
      "Number of elements per entity:\n",
      "entity\n",
      "I-UN     55595\n",
      "B-UN      9923\n",
      "I-ORG     4104\n",
      "I-RR      1436\n",
      "I-PER      879\n",
      "I-MRK      714\n",
      "B-RR       608\n",
      "B-ORG      449\n",
      "B-PER      215\n",
      "B-ST       131\n",
      "B-MRK       89\n",
      "I-VT        75\n",
      "I-STR       53\n",
      "I-RS        43\n",
      "I-LIT       28\n",
      "B-STR       18\n",
      "I-GS        14\n",
      "B-LD        13\n",
      "B-VT         8\n",
      "B-RS         5\n",
      "I-GRT        5\n",
      "I-ST         5\n",
      "B-GRT        2\n",
      "B-GS         2\n",
      "B-INN        1\n",
      "B-LIT        1\n",
      "Name: count, dtype: int64\n"
     ]
    },
    {
     "data": {
      "text/plain": [
       "<Figure size 1000x600 with 1 Axes>"
      ],
      "image/png": "[encoded data removed]"
     },
     "metadata": {},
     "output_type": "display_data"
    }
   ],
   "execution_count": 31
  },
  {
   "metadata": {},
   "cell_type": "markdown",
   "source": "looks like it is not working too well .... ",
   "id": "9c38e1d70bb8c84a"
  },
  {
   "metadata": {
    "ExecuteTime": {
     "end_time": "2024-10-01T14:31:24.399150Z",
     "start_time": "2024-10-01T14:31:24.368882Z"
    }
   },
   "cell_type": "code",
   "source": [
    "df_personen = df[df['entity'] == 'I-PER']\n",
    "df_personen.to_csv('personen.csv', index=False)"
   ],
   "id": "5660baf16c532d7f",
   "outputs": [],
   "execution_count": 37
  },
  {
   "metadata": {},
   "cell_type": "markdown",
   "source": "## google-bert/bert-base-german-cased  \n",
   "id": "2d9eb2119405eddd"
  },
  {
   "metadata": {
    "ExecuteTime": {
     "end_time": "2024-10-01T15:40:09.132299Z",
     "start_time": "2024-10-01T15:40:08.491882Z"
    }
   },
   "cell_type": "code",
   "source": [
    "tokenizer = AutoTokenizer.from_pretrained(\"google-bert/bert-base-german-cased\")\n",
    "model = AutoModelForTokenClassification.from_pretrained(\"google-bert/bert-base-german-cased\")\n",
    "nlp = pipeline(\"ner\", model=model, tokenizer=tokenizer)\n"
   ],
   "id": "830eabba798e7f39",
   "outputs": [
    {
     "name": "stderr",
     "output_type": "stream",
     "text": [
      "/Users/dominikpichler/Documents/Git/OpenSource/Balmung/ER-NLP/.venv/lib/python3.11/site-packages/transformers/tokenization_utils_base.py:1601: FutureWarning: `clean_up_tokenization_spaces` was not set. It will be set to `True` by default. This behavior will be depracted in transformers v4.45, and will be then set to `False` by default. For more details check this issue: https://github.com/huggingface/transformers/issues/31884\n",
      "  warnings.warn(\n",
      "Some weights of BertForTokenClassification were not initialized from the model checkpoint at google-bert/bert-base-german-cased and are newly initialized: ['classifier.bias', 'classifier.weight']\n",
      "You should probably TRAIN this model on a down-stream task to be able to use it for predictions and inference.\n",
      "Hardware accelerator e.g. GPU is available in the environment, but no `device` argument is passed to the `Pipeline` object. Model will be on CPU.\n"
     ]
    }
   ],
   "execution_count": 4
  },
  {
   "metadata": {
    "ExecuteTime": {
     "end_time": "2024-10-01T15:40:19.819854Z",
     "start_time": "2024-10-01T15:40:12.857673Z"
    }
   },
   "cell_type": "code",
   "source": [
    "list_nlp_results = []\n",
    "for company_name in tqdm(company_names):\n",
    "    \n",
    "    list_nlp_results.append(nlp(company_name))\n",
    "    \n",
    "flattened_data = [item for result in list_nlp_results for item in result]\n",
    "\n",
    "df = json_normalize(flattened_data)\n",
    "df.to_csv('company_name_HuggingFace_GoogleBert.csv')\n"
   ],
   "id": "e8111126a69d6da5",
   "outputs": [
    {
     "name": "stderr",
     "output_type": "stream",
     "text": [
      "100%|██████████| 100/100 [00:06<00:00, 14.51it/s]\n"
     ]
    }
   ],
   "execution_count": 5
  },
  {
   "metadata": {
    "ExecuteTime": {
     "end_time": "2024-10-01T15:40:48.981346Z",
     "start_time": "2024-10-01T15:40:48.694941Z"
    }
   },
   "cell_type": "code",
   "source": [
    "# Plot a bar chart of the counts\n",
    "entity_counts = df['entity'].value_counts()\n",
    "\n",
    "# Print the counts\n",
    "print(\"Number of elements per entity:\")\n",
    "print(entity_counts)\n",
    "\n",
    "# Plot a bar chart of the counts\n",
    "plt.figure(figsize=(10, 6))\n",
    "entity_counts.plot(kind='bar', color='skyblue')\n",
    "plt.title('Number of Elements per Entity')\n",
    "plt.xlabel('Entity')\n",
    "plt.ylabel('Count')\n",
    "plt.xticks(rotation=45)\n",
    "plt.tight_layout()\n",
    "plt.show()"
   ],
   "id": "436ae9ea0ba7cf1d",
   "outputs": [
    {
     "name": "stdout",
     "output_type": "stream",
     "text": [
      "Number of elements per entity:\n",
      "entity\n",
      "LABEL_1    902\n",
      "LABEL_0     19\n",
      "Name: count, dtype: int64\n"
     ]
    },
    {
     "data": {
      "text/plain": [
       "<Figure size 1000x600 with 1 Axes>"
      ],
      "image/png": "[encoded data removed]"
     },
     "metadata": {},
     "output_type": "display_data"
    }
   ],
   "execution_count": 7
  },
  {
   "metadata": {
    "ExecuteTime": {
     "end_time": "2024-10-01T15:43:09.050681Z",
     "start_time": "2024-10-01T15:43:09.045752Z"
    }
   },
   "cell_type": "code",
   "source": "df[df['entity'] == 'LABEL_1']\n",
   "id": "35960ceed880d0af",
   "outputs": [
    {
     "data": {
      "text/plain": [
       "      entity     score  index          word  start  end\n",
       "0    LABEL_1  0.597271      1            ol      0    2\n",
       "1    LABEL_1  0.765606      2          ##ly      2    4\n",
       "2    LABEL_1  0.759281      3             U      5    6\n",
       "3    LABEL_1  0.820037      4           ##G      6    7\n",
       "4    LABEL_1  0.749424      5             (      8    9\n",
       "..       ...       ...    ...           ...    ...  ...\n",
       "916  LABEL_1  0.607506      4        Freude      8   14\n",
       "917  LABEL_1  0.516354      5           ##n     14   15\n",
       "918  LABEL_1  0.717766      6      ##berger     15   21\n",
       "919  LABEL_1  0.712597      7  Maschinenbau     22   34\n",
       "920  LABEL_1  0.782450      8          GmbH     35   39\n",
       "\n",
       "[902 rows x 6 columns]"
      ],
      "text/html": [
       "<div>\n",
       "<style scoped>\n",
       "    .dataframe tbody tr th:only-of-type {\n",
       "        vertical-align: middle;\n",
       "    }\n",
       "\n",
       "    .dataframe tbody tr th {\n",
       "        vertical-align: top;\n",
       "    }\n",
       "\n",
       "    .dataframe thead th {\n",
       "        text-align: right;\n",
       "    }\n",
       "</style>\n",
       "<table border=\"1\" class=\"dataframe\">\n",
       "  <thead>\n",
       "    <tr style=\"text-align: right;\">\n",
       "      <th></th>\n",
       "      <th>entity</th>\n",
       "      <th>score</th>\n",
       "      <th>index</th>\n",
       "      <th>word</th>\n",
       "      <th>start</th>\n",
       "      <th>end</th>\n",
       "    </tr>\n",
       "  </thead>\n",
       "  <tbody>\n",
       "    <tr>\n",
       "      <th>0</th>\n",
       "      <td>LABEL_1</td>\n",
       "      <td>0.597271</td>\n",
       "      <td>1</td>\n",
       "      <td>ol</td>\n",
       "      <td>0</td>\n",
       "      <td>2</td>\n",
       "    </tr>\n",
       "    <tr>\n",
       "      <th>1</th>\n",
       "      <td>LABEL_1</td>\n",
       "      <td>0.765606</td>\n",
       "      <td>2</td>\n",
       "      <td>##ly</td>\n",
       "      <td>2</td>\n",
       "      <td>4</td>\n",
       "    </tr>\n",
       "    <tr>\n",
       "      <th>2</th>\n",
       "      <td>LABEL_1</td>\n",
       "      <td>0.759281</td>\n",
       "      <td>3</td>\n",
       "      <td>U</td>\n",
       "      <td>5</td>\n",
       "      <td>6</td>\n",
       "    </tr>\n",
       "    <tr>\n",
       "      <th>3</th>\n",
       "      <td>LABEL_1</td>\n",
       "      <td>0.820037</td>\n",
       "      <td>4</td>\n",
       "      <td>##G</td>\n",
       "      <td>6</td>\n",
       "      <td>7</td>\n",
       "    </tr>\n",
       "    <tr>\n",
       "      <th>4</th>\n",
       "      <td>LABEL_1</td>\n",
       "      <td>0.749424</td>\n",
       "      <td>5</td>\n",
       "      <td>(</td>\n",
       "      <td>8</td>\n",
       "      <td>9</td>\n",
       "    </tr>\n",
       "    <tr>\n",
       "      <th>...</th>\n",
       "      <td>...</td>\n",
       "      <td>...</td>\n",
       "      <td>...</td>\n",
       "      <td>...</td>\n",
       "      <td>...</td>\n",
       "      <td>...</td>\n",
       "    </tr>\n",
       "    <tr>\n",
       "      <th>916</th>\n",
       "      <td>LABEL_1</td>\n",
       "      <td>0.607506</td>\n",
       "      <td>4</td>\n",
       "      <td>Freude</td>\n",
       "      <td>8</td>\n",
       "      <td>14</td>\n",
       "    </tr>\n",
       "    <tr>\n",
       "      <th>917</th>\n",
       "      <td>LABEL_1</td>\n",
       "      <td>0.516354</td>\n",
       "      <td>5</td>\n",
       "      <td>##n</td>\n",
       "      <td>14</td>\n",
       "      <td>15</td>\n",
       "    </tr>\n",
       "    <tr>\n",
       "      <th>918</th>\n",
       "      <td>LABEL_1</td>\n",
       "      <td>0.717766</td>\n",
       "      <td>6</td>\n",
       "      <td>##berger</td>\n",
       "      <td>15</td>\n",
       "      <td>21</td>\n",
       "    </tr>\n",
       "    <tr>\n",
       "      <th>919</th>\n",
       "      <td>LABEL_1</td>\n",
       "      <td>0.712597</td>\n",
       "      <td>7</td>\n",
       "      <td>Maschinenbau</td>\n",
       "      <td>22</td>\n",
       "      <td>34</td>\n",
       "    </tr>\n",
       "    <tr>\n",
       "      <th>920</th>\n",
       "      <td>LABEL_1</td>\n",
       "      <td>0.782450</td>\n",
       "      <td>8</td>\n",
       "      <td>GmbH</td>\n",
       "      <td>35</td>\n",
       "      <td>39</td>\n",
       "    </tr>\n",
       "  </tbody>\n",
       "</table>\n",
       "<p>902 rows × 6 columns</p>\n",
       "</div>"
      ]
     },
     "execution_count": 9,
     "metadata": {},
     "output_type": "execute_result"
    }
   ],
   "execution_count": 9
  }
 ],
 "metadata": {
  "kernelspec": {
   "display_name": "Python 3",
   "language": "python",
   "name": "python3"
  },
  "language_info": {
   "codemirror_mode": {
    "name": "ipython",
    "version": 2
   },
   "file_extension": ".py",
   "mimetype": "text/x-python",
   "name": "python",
   "nbconvert_exporter": "python",
   "pygments_lexer": "ipython2",
   "version": "2.7.6"
  }
 },
 "nbformat": 4,
 "nbformat_minor": 5
}
