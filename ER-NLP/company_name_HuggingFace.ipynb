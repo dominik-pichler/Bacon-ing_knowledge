{
 "cells": [
  {
   "cell_type": "code",
   "id": "initial_id",
   "metadata": {
    "collapsed": true,
    "ExecuteTime": {
     "end_time": "2024-10-01T14:04:58.596778Z",
     "start_time": "2024-10-01T14:04:58.593889Z"
    }
   },
   "source": [
    "from transformers import AutoTokenizer, AutoModelForTokenClassification, pipeline\n",
    "from pandas import json_normalize\n",
    "import sqlite3\n",
    "import matplotlib.pyplot as plt\n",
    "from tqdm import tqdm"
   ],
   "outputs": [],
   "execution_count": 28
  },
  {
   "metadata": {
    "ExecuteTime": {
     "end_time": "2024-10-01T13:59:42.613544Z",
     "start_time": "2024-10-01T13:59:41.792066Z"
    }
   },
   "cell_type": "code",
   "source": [
    "tokenizer = AutoTokenizer.from_pretrained(\"elenanereiss/bert-german-ler\")\n",
    "model = AutoModelForTokenClassification.from_pretrained(\"elenanereiss/bert-german-ler\")\n",
    "nlp = pipeline(\"ner\", model=model, tokenizer=tokenizer)\n"
   ],
   "id": "d4da2b1f35685e8b",
   "outputs": [
    {
     "name": "stderr",
     "output_type": "stream",
     "text": [
      "/Users/dominikpichler/Documents/Git/OpenSource/Balmung/ER-NLP/.venv/lib/python3.11/site-packages/transformers/tokenization_utils_base.py:1601: FutureWarning: `clean_up_tokenization_spaces` was not set. It will be set to `True` by default. This behavior will be depracted in transformers v4.45, and will be then set to `False` by default. For more details check this issue: https://github.com/huggingface/transformers/issues/31884\n",
      "  warnings.warn(\n",
      "Hardware accelerator e.g. GPU is available in the environment, but no `device` argument is passed to the `Pipeline` object. Model will be on CPU.\n"
     ]
    }
   ],
   "execution_count": 14
  },
  {
   "metadata": {
    "ExecuteTime": {
     "end_time": "2024-10-01T13:59:43.926538Z",
     "start_time": "2024-10-01T13:59:43.922137Z"
    }
   },
   "cell_type": "code",
   "source": [
    "def run_query(database_path, query):\n",
    "    # Connect to the SQLite database\n",
    "    # If the database does not exist, it will be created\n",
    "    connection = sqlite3.connect(database_path)\n",
    "    \n",
    "    try:\n",
    "        # Create a cursor object using the connection\n",
    "        cursor = connection.cursor()\n",
    "        \n",
    "        # Execute the SQL query\n",
    "        cursor.execute(query)\n",
    "        \n",
    "        # Fetch all results from the executed query\n",
    "        results = cursor.fetchall()\n",
    "        \n",
    "        # Turning list of tuples to list of strings for further processing\n",
    "        return [str(t[0]) for t in results]\n",
    "\n",
    "            \n",
    "    except sqlite3.Error as e:\n",
    "        print(f\"An error occurred: {e}\")\n",
    "        \n",
    "    finally:\n",
    "        \n",
    "        # Close the connection to the database\n",
    "        if connection:\n",
    "            connection.close()"
   ],
   "id": "ec529191fd2059bf",
   "outputs": [],
   "execution_count": 15
  },
  {
   "metadata": {
    "ExecuteTime": {
     "end_time": "2024-10-01T14:04:00.784986Z",
     "start_time": "2024-10-01T14:04:00.766386Z"
    }
   },
   "cell_type": "code",
   "source": [
    "\n",
    "database_path = 'openregister.db'  # Path to your SQLite database file\n",
    "query = 'SELECT name FROM company LIMIT 10000;'  # Replace 'your_table' with your actual table name\n",
    "\n",
    "company_names = run_query(database_path, query)\n",
    "\n"
   ],
   "id": "749fe245d43131f5",
   "outputs": [],
   "execution_count": 22
  },
  {
   "metadata": {
    "ExecuteTime": {
     "end_time": "2024-10-01T14:14:16.396957Z",
     "start_time": "2024-10-01T14:05:08.078939Z"
    }
   },
   "cell_type": "code",
   "source": [
    "list_nlp_results = []\n",
    "for company_name in tqdm(company_names):\n",
    "    \n",
    "    list_nlp_results.append(nlp(company_name))\n",
    "    \n",
    "flattened_data = [item for result in list_nlp_results for item in result]\n",
    "print(flattened_data)"
   ],
   "id": "428e4c7a3bd81f8",
   "outputs": [
    {
     "name": "stderr",
     "output_type": "stream",
     "text": [
      "100%|██████████| 10000/10000 [09:08<00:00, 18.24it/s]IOPub data rate exceeded.\n",
      "The Jupyter server will temporarily stop sending output\n",
      "to the client in order to avoid crashing it.\n",
      "To change this limit, set the config variable\n",
      "`--ServerApp.iopub_data_rate_limit`.\n",
      "\n",
      "Current values:\n",
      "ServerApp.iopub_data_rate_limit=1000000.0 (bytes/sec)\n",
      "ServerApp.rate_limit_window=3.0 (secs)\n",
      "\n",
      "\n"
     ]
    }
   ],
   "execution_count": 29
  },
  {
   "metadata": {
    "ExecuteTime": {
     "end_time": "2024-10-01T14:14:27.716386Z",
     "start_time": "2024-10-01T14:14:27.536164Z"
    }
   },
   "cell_type": "code",
   "source": [
    "df = json_normalize(flattened_data)\n",
    "#df.to_csv('company_name_HuggingFace.csv')\n"
   ],
   "id": "787467208bd87664",
   "outputs": [],
   "execution_count": 30
  },
  {
   "metadata": {
    "ExecuteTime": {
     "end_time": "2024-10-01T14:14:29.382932Z",
     "start_time": "2024-10-01T14:14:29.159003Z"
    }
   },
   "cell_type": "code",
   "source": [
    "entity_counts = df['entity'].value_counts()\n",
    "\n",
    "# Print the counts\n",
    "print(\"Number of elements per entity:\")\n",
    "print(entity_counts)\n",
    "\n",
    "# Plot a bar chart of the counts\n",
    "plt.figure(figsize=(10, 6))\n",
    "entity_counts.plot(kind='bar', color='skyblue')\n",
    "plt.title('Number of Elements per Entity')\n",
    "plt.xlabel('Entity')\n",
    "plt.ylabel('Count')\n",
    "plt.xticks(rotation=45)\n",
    "plt.tight_layout()\n",
    "plt.show()"
   ],
   "id": "8fdf643b8d3320bd",
   "outputs": [
    {
     "name": "stdout",
     "output_type": "stream",
     "text": [
      "Number of elements per entity:\n",
      "entity\n",
      "I-UN     55595\n",
      "B-UN      9923\n",
      "I-ORG     4104\n",
      "I-RR      1436\n",
      "I-PER      879\n",
      "I-MRK      714\n",
      "B-RR       608\n",
      "B-ORG      449\n",
      "B-PER      215\n",
      "B-ST       131\n",
      "B-MRK       89\n",
      "I-VT        75\n",
      "I-STR       53\n",
      "I-RS        43\n",
      "I-LIT       28\n",
      "B-STR       18\n",
      "I-GS        14\n",
      "B-LD        13\n",
      "B-VT         8\n",
      "B-RS         5\n",
      "I-GRT        5\n",
      "I-ST         5\n",
      "B-GRT        2\n",
      "B-GS         2\n",
      "B-INN        1\n",
      "B-LIT        1\n",
      "Name: count, dtype: int64\n"
     ]
    },
    {
     "data": {
      "text/plain": [
       "<Figure size 1000x600 with 1 Axes>"
      ],
      "image/png": "[encoded data removed]"
     },
     "metadata": {},
     "output_type": "display_data"
    }
   ],
   "execution_count": 31
  },
  {
   "metadata": {},
   "cell_type": "markdown",
   "source": "looks like it is not working too well .... ",
   "id": "9c38e1d70bb8c84a"
  },
  {
   "metadata": {
    "ExecuteTime": {
     "end_time": "2024-10-01T14:31:24.399150Z",
     "start_time": "2024-10-01T14:31:24.368882Z"
    }
   },
   "cell_type": "code",
   "source": [
    "df_personen = df[df['entity'] == 'I-PER']\n",
    "df_personen.to_csv('personen.csv', index=False)"
   ],
   "id": "5660baf16c532d7f",
   "outputs": [],
   "execution_count": 37
  }
 ],
 "metadata": {
  "kernelspec": {
   "display_name": "Python 3",
   "language": "python",
   "name": "python3"
  },
  "language_info": {
   "codemirror_mode": {
    "name": "ipython",
    "version": 2
   },
   "file_extension": ".py",
   "mimetype": "text/x-python",
   "name": "python",
   "nbconvert_exporter": "python",
   "pygments_lexer": "ipython2",
   "version": "2.7.6"
  }
 },
 "nbformat": 4,
 "nbformat_minor": 5
}
